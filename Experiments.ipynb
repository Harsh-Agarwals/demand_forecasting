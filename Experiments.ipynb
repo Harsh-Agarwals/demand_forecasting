{
 "cells": [
  {
   "cell_type": "code",
   "execution_count": 2,
   "id": "2a229ff3",
   "metadata": {},
   "outputs": [],
   "source": [
    "# importing libraries\n",
    "\n",
    "import numpy as np\n",
    "import pandas as pd\n",
    "import matplotlib.pyplot as plt\n",
    "import seaborn as sns\n",
    "from datetime import datetime, timedelta\n",
    "\n",
    "import warnings\n",
    "warnings.filterwarnings('ignore')"
   ]
  },
  {
   "cell_type": "code",
   "execution_count": 3,
   "id": "b5d4a6fd",
   "metadata": {},
   "outputs": [
    {
     "data": {
      "text/html": [
       "<div>\n",
       "<style scoped>\n",
       "    .dataframe tbody tr th:only-of-type {\n",
       "        vertical-align: middle;\n",
       "    }\n",
       "\n",
       "    .dataframe tbody tr th {\n",
       "        vertical-align: top;\n",
       "    }\n",
       "\n",
       "    .dataframe thead th {\n",
       "        text-align: right;\n",
       "    }\n",
       "</style>\n",
       "<table border=\"1\" class=\"dataframe\">\n",
       "  <thead>\n",
       "    <tr style=\"text-align: right;\">\n",
       "      <th></th>\n",
       "      <th>date</th>\n",
       "      <th>load_units</th>\n",
       "      <th>people_required</th>\n",
       "      <th>people_available</th>\n",
       "      <th>overtime</th>\n",
       "    </tr>\n",
       "  </thead>\n",
       "  <tbody>\n",
       "    <tr>\n",
       "      <th>0</th>\n",
       "      <td>01-04-2025</td>\n",
       "      <td>10</td>\n",
       "      <td>10</td>\n",
       "      <td>7</td>\n",
       "      <td>True</td>\n",
       "    </tr>\n",
       "    <tr>\n",
       "      <th>1</th>\n",
       "      <td>02-04-2025</td>\n",
       "      <td>11</td>\n",
       "      <td>11</td>\n",
       "      <td>7</td>\n",
       "      <td>True</td>\n",
       "    </tr>\n",
       "    <tr>\n",
       "      <th>2</th>\n",
       "      <td>03-04-2025</td>\n",
       "      <td>9</td>\n",
       "      <td>9</td>\n",
       "      <td>7</td>\n",
       "      <td>True</td>\n",
       "    </tr>\n",
       "    <tr>\n",
       "      <th>3</th>\n",
       "      <td>04-04-2025</td>\n",
       "      <td>11</td>\n",
       "      <td>11</td>\n",
       "      <td>6</td>\n",
       "      <td>True</td>\n",
       "    </tr>\n",
       "    <tr>\n",
       "      <th>4</th>\n",
       "      <td>05-04-2025</td>\n",
       "      <td>3</td>\n",
       "      <td>3</td>\n",
       "      <td>7</td>\n",
       "      <td>False</td>\n",
       "    </tr>\n",
       "    <tr>\n",
       "      <th>...</th>\n",
       "      <td>...</td>\n",
       "      <td>...</td>\n",
       "      <td>...</td>\n",
       "      <td>...</td>\n",
       "      <td>...</td>\n",
       "    </tr>\n",
       "    <tr>\n",
       "      <th>86</th>\n",
       "      <td>26-06-2025</td>\n",
       "      <td>10</td>\n",
       "      <td>10</td>\n",
       "      <td>7</td>\n",
       "      <td>True</td>\n",
       "    </tr>\n",
       "    <tr>\n",
       "      <th>87</th>\n",
       "      <td>27-06-2025</td>\n",
       "      <td>12</td>\n",
       "      <td>12</td>\n",
       "      <td>6</td>\n",
       "      <td>True</td>\n",
       "    </tr>\n",
       "    <tr>\n",
       "      <th>88</th>\n",
       "      <td>28-06-2025</td>\n",
       "      <td>5</td>\n",
       "      <td>5</td>\n",
       "      <td>7</td>\n",
       "      <td>False</td>\n",
       "    </tr>\n",
       "    <tr>\n",
       "      <th>89</th>\n",
       "      <td>29-06-2025</td>\n",
       "      <td>6</td>\n",
       "      <td>6</td>\n",
       "      <td>7</td>\n",
       "      <td>False</td>\n",
       "    </tr>\n",
       "    <tr>\n",
       "      <th>90</th>\n",
       "      <td>30-06-2025</td>\n",
       "      <td>12</td>\n",
       "      <td>12</td>\n",
       "      <td>7</td>\n",
       "      <td>True</td>\n",
       "    </tr>\n",
       "  </tbody>\n",
       "</table>\n",
       "<p>91 rows × 5 columns</p>\n",
       "</div>"
      ],
      "text/plain": [
       "          date  load_units  people_required  people_available  overtime\n",
       "0   01-04-2025          10               10                 7      True\n",
       "1   02-04-2025          11               11                 7      True\n",
       "2   03-04-2025           9                9                 7      True\n",
       "3   04-04-2025          11               11                 6      True\n",
       "4   05-04-2025           3                3                 7     False\n",
       "..         ...         ...              ...               ...       ...\n",
       "86  26-06-2025          10               10                 7      True\n",
       "87  27-06-2025          12               12                 6      True\n",
       "88  28-06-2025           5                5                 7     False\n",
       "89  29-06-2025           6                6                 7     False\n",
       "90  30-06-2025          12               12                 7      True\n",
       "\n",
       "[91 rows x 5 columns]"
      ]
     },
     "execution_count": 3,
     "metadata": {},
     "output_type": "execute_result"
    }
   ],
   "source": [
    "# loading historical data\n",
    "\n",
    "df = pd.read_csv(\"Historical_Load_Data.csv\")\n",
    "df"
   ]
  },
  {
   "cell_type": "code",
   "execution_count": 4,
   "id": "7782f649",
   "metadata": {},
   "outputs": [
    {
     "data": {
      "text/html": [
       "<div>\n",
       "<style scoped>\n",
       "    .dataframe tbody tr th:only-of-type {\n",
       "        vertical-align: middle;\n",
       "    }\n",
       "\n",
       "    .dataframe tbody tr th {\n",
       "        vertical-align: top;\n",
       "    }\n",
       "\n",
       "    .dataframe thead th {\n",
       "        text-align: right;\n",
       "    }\n",
       "</style>\n",
       "<table border=\"1\" class=\"dataframe\">\n",
       "  <thead>\n",
       "    <tr style=\"text-align: right;\">\n",
       "      <th></th>\n",
       "      <th>employee_id</th>\n",
       "      <th>name</th>\n",
       "      <th>holidays</th>\n",
       "    </tr>\n",
       "  </thead>\n",
       "  <tbody>\n",
       "    <tr>\n",
       "      <th>0</th>\n",
       "      <td>1</td>\n",
       "      <td>Alice</td>\n",
       "      <td>2025-07-01,2025-06-16,2025-05-21,2025-05-08</td>\n",
       "    </tr>\n",
       "    <tr>\n",
       "      <th>1</th>\n",
       "      <td>2</td>\n",
       "      <td>Bob</td>\n",
       "      <td>2025-07-16, 2025-05-12,2025-05-06,2025-05-20</td>\n",
       "    </tr>\n",
       "    <tr>\n",
       "      <th>2</th>\n",
       "      <td>3</td>\n",
       "      <td>Carol</td>\n",
       "      <td>2025-07-07, 2025-06-07,2025-06-06,2025-06-27</td>\n",
       "    </tr>\n",
       "    <tr>\n",
       "      <th>3</th>\n",
       "      <td>4</td>\n",
       "      <td>Dave</td>\n",
       "      <td>2025-07-11,2025-04-29,2025-05-10,2025-05-11</td>\n",
       "    </tr>\n",
       "    <tr>\n",
       "      <th>4</th>\n",
       "      <td>5</td>\n",
       "      <td>Eve</td>\n",
       "      <td>2025-05-26,2025-06-02,2025-06-21,2025-08-11</td>\n",
       "    </tr>\n",
       "    <tr>\n",
       "      <th>5</th>\n",
       "      <td>6</td>\n",
       "      <td>Frank</td>\n",
       "      <td>2025-05-20,2025-06-13,2025-06-22</td>\n",
       "    </tr>\n",
       "    <tr>\n",
       "      <th>6</th>\n",
       "      <td>7</td>\n",
       "      <td>Grace</td>\n",
       "      <td>2025-04-22,2025-04-04,2025-06-08</td>\n",
       "    </tr>\n",
       "  </tbody>\n",
       "</table>\n",
       "</div>"
      ],
      "text/plain": [
       "   employee_id   name                                      holidays\n",
       "0            1  Alice   2025-07-01,2025-06-16,2025-05-21,2025-05-08\n",
       "1            2    Bob  2025-07-16, 2025-05-12,2025-05-06,2025-05-20\n",
       "2            3  Carol  2025-07-07, 2025-06-07,2025-06-06,2025-06-27\n",
       "3            4   Dave   2025-07-11,2025-04-29,2025-05-10,2025-05-11\n",
       "4            5    Eve   2025-05-26,2025-06-02,2025-06-21,2025-08-11\n",
       "5            6  Frank              2025-05-20,2025-06-13,2025-06-22\n",
       "6            7  Grace              2025-04-22,2025-04-04,2025-06-08"
      ]
     },
     "execution_count": 4,
     "metadata": {},
     "output_type": "execute_result"
    }
   ],
   "source": [
    "staffs = pd.read_csv(\"Staff_List_with_Holidays.csv\")\n",
    "staffs"
   ]
  },
  {
   "cell_type": "markdown",
   "id": "234888e5",
   "metadata": {},
   "source": [
    "## Exploring dataframes"
   ]
  },
  {
   "cell_type": "code",
   "execution_count": 5,
   "id": "b0fe7c82",
   "metadata": {},
   "outputs": [
    {
     "name": "stdout",
     "output_type": "stream",
     "text": [
      "<class 'pandas.core.frame.DataFrame'>\n",
      "RangeIndex: 91 entries, 0 to 90\n",
      "Data columns (total 5 columns):\n",
      " #   Column            Non-Null Count  Dtype \n",
      "---  ------            --------------  ----- \n",
      " 0   date              91 non-null     object\n",
      " 1   load_units        91 non-null     int64 \n",
      " 2   people_required   91 non-null     int64 \n",
      " 3   people_available  91 non-null     int64 \n",
      " 4   overtime          91 non-null     bool  \n",
      "dtypes: bool(1), int64(3), object(1)\n",
      "memory usage: 3.1+ KB\n"
     ]
    }
   ],
   "source": [
    "# Let's check the data types of df dataframe\n",
    "\n",
    "df.info()"
   ]
  },
  {
   "cell_type": "markdown",
   "id": "a192bf86",
   "metadata": {},
   "source": [
    "\"date\" is of the type object, but it clearly is of datetime type. Now we will convert it into datetime type."
   ]
  },
  {
   "cell_type": "code",
   "execution_count": 6,
   "id": "30a7202c",
   "metadata": {},
   "outputs": [
    {
     "name": "stdout",
     "output_type": "stream",
     "text": [
      "<class 'pandas.core.frame.DataFrame'>\n",
      "RangeIndex: 91 entries, 0 to 90\n",
      "Data columns (total 5 columns):\n",
      " #   Column            Non-Null Count  Dtype         \n",
      "---  ------            --------------  -----         \n",
      " 0   date              91 non-null     datetime64[ns]\n",
      " 1   load_units        91 non-null     int64         \n",
      " 2   people_required   91 non-null     int64         \n",
      " 3   people_available  91 non-null     int64         \n",
      " 4   overtime          91 non-null     bool          \n",
      "dtypes: bool(1), datetime64[ns](1), int64(3)\n",
      "memory usage: 3.1 KB\n"
     ]
    },
    {
     "data": {
      "text/plain": [
       "(None,\n",
       "         date  load_units  people_required  people_available  overtime\n",
       " 0 2025-04-01          10               10                 7      True\n",
       " 1 2025-04-02          11               11                 7      True)"
      ]
     },
     "execution_count": 6,
     "metadata": {},
     "output_type": "execute_result"
    }
   ],
   "source": [
    "df['date'] = pd.to_datetime(df['date'], format=\"%d-%m-%Y\")\n",
    "df.info(), df.head(2)"
   ]
  },
  {
   "cell_type": "code",
   "execution_count": 7,
   "id": "9e0f664b",
   "metadata": {},
   "outputs": [
    {
     "name": "stdout",
     "output_type": "stream",
     "text": [
      "<class 'pandas.core.frame.DataFrame'>\n",
      "RangeIndex: 7 entries, 0 to 6\n",
      "Data columns (total 3 columns):\n",
      " #   Column       Non-Null Count  Dtype \n",
      "---  ------       --------------  ----- \n",
      " 0   employee_id  7 non-null      int64 \n",
      " 1   name         7 non-null      object\n",
      " 2   holidays     7 non-null      object\n",
      "dtypes: int64(1), object(2)\n",
      "memory usage: 300.0+ bytes\n"
     ]
    }
   ],
   "source": [
    "staffs.info()"
   ]
  },
  {
   "cell_type": "markdown",
   "id": "bd93028b",
   "metadata": {},
   "source": [
    "Now let's look at different columns of the df"
   ]
  },
  {
   "cell_type": "code",
   "execution_count": 8,
   "id": "bd49a184",
   "metadata": {},
   "outputs": [
    {
     "data": {
      "text/html": [
       "<div>\n",
       "<style scoped>\n",
       "    .dataframe tbody tr th:only-of-type {\n",
       "        vertical-align: middle;\n",
       "    }\n",
       "\n",
       "    .dataframe tbody tr th {\n",
       "        vertical-align: top;\n",
       "    }\n",
       "\n",
       "    .dataframe thead th {\n",
       "        text-align: right;\n",
       "    }\n",
       "</style>\n",
       "<table border=\"1\" class=\"dataframe\">\n",
       "  <thead>\n",
       "    <tr style=\"text-align: right;\">\n",
       "      <th></th>\n",
       "      <th>count</th>\n",
       "      <th>mean</th>\n",
       "      <th>min</th>\n",
       "      <th>25%</th>\n",
       "      <th>50%</th>\n",
       "      <th>75%</th>\n",
       "      <th>max</th>\n",
       "      <th>std</th>\n",
       "    </tr>\n",
       "  </thead>\n",
       "  <tbody>\n",
       "    <tr>\n",
       "      <th>date</th>\n",
       "      <td>91</td>\n",
       "      <td>2025-05-16 00:00:00</td>\n",
       "      <td>2025-04-01 00:00:00</td>\n",
       "      <td>2025-04-23 12:00:00</td>\n",
       "      <td>2025-05-16 00:00:00</td>\n",
       "      <td>2025-06-07 12:00:00</td>\n",
       "      <td>2025-06-30 00:00:00</td>\n",
       "      <td>NaN</td>\n",
       "    </tr>\n",
       "    <tr>\n",
       "      <th>load_units</th>\n",
       "      <td>91.0</td>\n",
       "      <td>8.098901</td>\n",
       "      <td>3.0</td>\n",
       "      <td>6.0</td>\n",
       "      <td>8.0</td>\n",
       "      <td>10.0</td>\n",
       "      <td>12.0</td>\n",
       "      <td>2.645982</td>\n",
       "    </tr>\n",
       "    <tr>\n",
       "      <th>people_required</th>\n",
       "      <td>91.0</td>\n",
       "      <td>8.098901</td>\n",
       "      <td>3.0</td>\n",
       "      <td>6.0</td>\n",
       "      <td>8.0</td>\n",
       "      <td>10.0</td>\n",
       "      <td>12.0</td>\n",
       "      <td>2.645982</td>\n",
       "    </tr>\n",
       "    <tr>\n",
       "      <th>people_available</th>\n",
       "      <td>91.0</td>\n",
       "      <td>6.769231</td>\n",
       "      <td>5.0</td>\n",
       "      <td>7.0</td>\n",
       "      <td>7.0</td>\n",
       "      <td>7.0</td>\n",
       "      <td>7.0</td>\n",
       "      <td>0.449121</td>\n",
       "    </tr>\n",
       "  </tbody>\n",
       "</table>\n",
       "</div>"
      ],
      "text/plain": [
       "                 count                 mean                  min  \\\n",
       "date                91  2025-05-16 00:00:00  2025-04-01 00:00:00   \n",
       "load_units        91.0             8.098901                  3.0   \n",
       "people_required   91.0             8.098901                  3.0   \n",
       "people_available  91.0             6.769231                  5.0   \n",
       "\n",
       "                                  25%                  50%  \\\n",
       "date              2025-04-23 12:00:00  2025-05-16 00:00:00   \n",
       "load_units                        6.0                  8.0   \n",
       "people_required                   6.0                  8.0   \n",
       "people_available                  7.0                  7.0   \n",
       "\n",
       "                                  75%                  max       std  \n",
       "date              2025-06-07 12:00:00  2025-06-30 00:00:00       NaN  \n",
       "load_units                       10.0                 12.0  2.645982  \n",
       "people_required                  10.0                 12.0  2.645982  \n",
       "people_available                  7.0                  7.0  0.449121  "
      ]
     },
     "execution_count": 8,
     "metadata": {},
     "output_type": "execute_result"
    }
   ],
   "source": [
    "df.describe().T"
   ]
  },
  {
   "cell_type": "markdown",
   "id": "ef7be6f5",
   "metadata": {},
   "source": [
    "**Observation**:\n",
    "\n",
    "- **date** is from 1st april 2025 to 30th June 2025 \n",
    "- **load_units** and **people_required** column ranges from 3 to 12\n",
    "- **people available** is from 5 to 7\n",
    "\n",
    "### Let's check date column"
   ]
  },
  {
   "cell_type": "code",
   "execution_count": 9,
   "id": "8b9649e7",
   "metadata": {},
   "outputs": [
    {
     "data": {
      "text/plain": [
       "(91, Timestamp('2025-04-01 00:00:00'), Timestamp('2025-06-30 00:00:00'))"
      ]
     },
     "execution_count": 9,
     "metadata": {},
     "output_type": "execute_result"
    }
   ],
   "source": [
    "# Checking the number of unique dates\n",
    "\n",
    "len(df.date.unique()), df.date.min(), df.date.max()"
   ]
  },
  {
   "cell_type": "markdown",
   "id": "f00dd438",
   "metadata": {},
   "source": [
    "We have 91 rows and 91 unique dates. This means we have one row for each date. Let's cross check this.?"
   ]
  },
  {
   "cell_type": "code",
   "execution_count": 10,
   "id": "f2ba69a1",
   "metadata": {},
   "outputs": [
    {
     "data": {
      "text/plain": [
       "91"
      ]
     },
     "execution_count": 10,
     "metadata": {},
     "output_type": "execute_result"
    }
   ],
   "source": [
    "# Checking the number of days between the dates in our data\n",
    "\n",
    "len(pd.date_range(start=df.date.min(), end=df.date.max(), freq='D'))"
   ]
  },
  {
   "cell_type": "code",
   "execution_count": 11,
   "id": "c3ed2e26",
   "metadata": {},
   "outputs": [
    {
     "data": {
      "text/plain": [
       "91"
      ]
     },
     "execution_count": 11,
     "metadata": {},
     "output_type": "execute_result"
    }
   ],
   "source": [
    "# Let's check if these dates matches\n",
    "\n",
    "len(set(pd.date_range(start=df.date.min(), end=df.date.max(), freq='D')).intersection(df.date.unique()))"
   ]
  },
  {
   "cell_type": "markdown",
   "id": "61202f69",
   "metadata": {},
   "source": [
    "So, all my date are unique and is continuous from april-01 to june-30\n",
    "\n",
    "### load_units column"
   ]
  },
  {
   "cell_type": "code",
   "execution_count": 12,
   "id": "7de4411f",
   "metadata": {},
   "outputs": [
    {
     "data": {
      "text/plain": [
       "load_units\n",
       "10    17\n",
       "8     14\n",
       "4     11\n",
       "11    10\n",
       "9      9\n",
       "12     8\n",
       "7      7\n",
       "5      6\n",
       "6      6\n",
       "3      3\n",
       "Name: count, dtype: int64"
      ]
     },
     "execution_count": 12,
     "metadata": {},
     "output_type": "execute_result"
    }
   ],
   "source": [
    "df.load_units.value_counts()"
   ]
  },
  {
   "cell_type": "markdown",
   "id": "d8060b4a",
   "metadata": {},
   "source": [
    "So, 10 load units is having maximum frequency, and 3 having lowest"
   ]
  },
  {
   "cell_type": "code",
   "execution_count": 13,
   "id": "cb0cbbbf",
   "metadata": {},
   "outputs": [
    {
     "data": {
      "image/png": "[encoded data removed]",
      "text/plain": [
       "<Figure size 1000x400 with 1 Axes>"
      ]
     },
     "metadata": {},
     "output_type": "display_data"
    }
   ],
   "source": [
    "# Plotting the frequency of load_units\n",
    "\n",
    "plt.figure(figsize=(10, 4))\n",
    "df.load_units.value_counts().plot(kind='bar')\n",
    "plt.title(\"Frequency of unique points in load_units\")\n",
    "plt.xlabel(\"load units\")\n",
    "plt.ylabel(\"frequency\")\n",
    "\n",
    "plt.show()"
   ]
  },
  {
   "cell_type": "code",
   "execution_count": 14,
   "id": "530b425b",
   "metadata": {},
   "outputs": [
    {
     "data": {
      "text/html": [
       "<div>\n",
       "<style scoped>\n",
       "    .dataframe tbody tr th:only-of-type {\n",
       "        vertical-align: middle;\n",
       "    }\n",
       "\n",
       "    .dataframe tbody tr th {\n",
       "        vertical-align: top;\n",
       "    }\n",
       "\n",
       "    .dataframe thead th {\n",
       "        text-align: right;\n",
       "    }\n",
       "</style>\n",
       "<table border=\"1\" class=\"dataframe\">\n",
       "  <thead>\n",
       "    <tr style=\"text-align: right;\">\n",
       "      <th></th>\n",
       "      <th>date</th>\n",
       "      <th>load_units</th>\n",
       "      <th>people_required</th>\n",
       "      <th>people_available</th>\n",
       "      <th>overtime</th>\n",
       "    </tr>\n",
       "  </thead>\n",
       "  <tbody>\n",
       "    <tr>\n",
       "      <th>0</th>\n",
       "      <td>2025-04-01</td>\n",
       "      <td>10</td>\n",
       "      <td>10</td>\n",
       "      <td>7</td>\n",
       "      <td>True</td>\n",
       "    </tr>\n",
       "    <tr>\n",
       "      <th>1</th>\n",
       "      <td>2025-04-02</td>\n",
       "      <td>11</td>\n",
       "      <td>11</td>\n",
       "      <td>7</td>\n",
       "      <td>True</td>\n",
       "    </tr>\n",
       "    <tr>\n",
       "      <th>2</th>\n",
       "      <td>2025-04-03</td>\n",
       "      <td>9</td>\n",
       "      <td>9</td>\n",
       "      <td>7</td>\n",
       "      <td>True</td>\n",
       "    </tr>\n",
       "    <tr>\n",
       "      <th>3</th>\n",
       "      <td>2025-04-04</td>\n",
       "      <td>11</td>\n",
       "      <td>11</td>\n",
       "      <td>6</td>\n",
       "      <td>True</td>\n",
       "    </tr>\n",
       "    <tr>\n",
       "      <th>4</th>\n",
       "      <td>2025-04-05</td>\n",
       "      <td>3</td>\n",
       "      <td>3</td>\n",
       "      <td>7</td>\n",
       "      <td>False</td>\n",
       "    </tr>\n",
       "    <tr>\n",
       "      <th>...</th>\n",
       "      <td>...</td>\n",
       "      <td>...</td>\n",
       "      <td>...</td>\n",
       "      <td>...</td>\n",
       "      <td>...</td>\n",
       "    </tr>\n",
       "    <tr>\n",
       "      <th>86</th>\n",
       "      <td>2025-06-26</td>\n",
       "      <td>10</td>\n",
       "      <td>10</td>\n",
       "      <td>7</td>\n",
       "      <td>True</td>\n",
       "    </tr>\n",
       "    <tr>\n",
       "      <th>87</th>\n",
       "      <td>2025-06-27</td>\n",
       "      <td>12</td>\n",
       "      <td>12</td>\n",
       "      <td>6</td>\n",
       "      <td>True</td>\n",
       "    </tr>\n",
       "    <tr>\n",
       "      <th>88</th>\n",
       "      <td>2025-06-28</td>\n",
       "      <td>5</td>\n",
       "      <td>5</td>\n",
       "      <td>7</td>\n",
       "      <td>False</td>\n",
       "    </tr>\n",
       "    <tr>\n",
       "      <th>89</th>\n",
       "      <td>2025-06-29</td>\n",
       "      <td>6</td>\n",
       "      <td>6</td>\n",
       "      <td>7</td>\n",
       "      <td>False</td>\n",
       "    </tr>\n",
       "    <tr>\n",
       "      <th>90</th>\n",
       "      <td>2025-06-30</td>\n",
       "      <td>12</td>\n",
       "      <td>12</td>\n",
       "      <td>7</td>\n",
       "      <td>True</td>\n",
       "    </tr>\n",
       "  </tbody>\n",
       "</table>\n",
       "<p>91 rows × 5 columns</p>\n",
       "</div>"
      ],
      "text/plain": [
       "         date  load_units  people_required  people_available  overtime\n",
       "0  2025-04-01          10               10                 7      True\n",
       "1  2025-04-02          11               11                 7      True\n",
       "2  2025-04-03           9                9                 7      True\n",
       "3  2025-04-04          11               11                 6      True\n",
       "4  2025-04-05           3                3                 7     False\n",
       "..        ...         ...              ...               ...       ...\n",
       "86 2025-06-26          10               10                 7      True\n",
       "87 2025-06-27          12               12                 6      True\n",
       "88 2025-06-28           5                5                 7     False\n",
       "89 2025-06-29           6                6                 7     False\n",
       "90 2025-06-30          12               12                 7      True\n",
       "\n",
       "[91 rows x 5 columns]"
      ]
     },
     "execution_count": 14,
     "metadata": {},
     "output_type": "execute_result"
    }
   ],
   "source": [
    "df"
   ]
  },
  {
   "cell_type": "markdown",
   "id": "e34152e3",
   "metadata": {},
   "source": [
    "We can see that load_units is equal to people_required. Let's check what does it mean here."
   ]
  },
  {
   "cell_type": "code",
   "execution_count": 15,
   "id": "096a7e5d",
   "metadata": {},
   "outputs": [
    {
     "data": {
      "text/plain": [
       "91"
      ]
     },
     "execution_count": 15,
     "metadata": {},
     "output_type": "execute_result"
    }
   ],
   "source": [
    "# Checking the rows where load_units is equal to people required\n",
    "\n",
    "len(df.loc[df.load_units == df.people_required])"
   ]
  },
  {
   "cell_type": "markdown",
   "id": "e4289a69",
   "metadata": {},
   "source": [
    "So, both load_units and people_required are same. Means removing one won't affect anything here.\n",
    "\n",
    "#### Let's remove load_units column"
   ]
  },
  {
   "cell_type": "code",
   "execution_count": 16,
   "id": "f805f396",
   "metadata": {},
   "outputs": [
    {
     "data": {
      "text/html": [
       "<div>\n",
       "<style scoped>\n",
       "    .dataframe tbody tr th:only-of-type {\n",
       "        vertical-align: middle;\n",
       "    }\n",
       "\n",
       "    .dataframe tbody tr th {\n",
       "        vertical-align: top;\n",
       "    }\n",
       "\n",
       "    .dataframe thead th {\n",
       "        text-align: right;\n",
       "    }\n",
       "</style>\n",
       "<table border=\"1\" class=\"dataframe\">\n",
       "  <thead>\n",
       "    <tr style=\"text-align: right;\">\n",
       "      <th></th>\n",
       "      <th>date</th>\n",
       "      <th>people_required</th>\n",
       "      <th>people_available</th>\n",
       "      <th>overtime</th>\n",
       "    </tr>\n",
       "  </thead>\n",
       "  <tbody>\n",
       "    <tr>\n",
       "      <th>0</th>\n",
       "      <td>2025-04-01</td>\n",
       "      <td>10</td>\n",
       "      <td>7</td>\n",
       "      <td>True</td>\n",
       "    </tr>\n",
       "    <tr>\n",
       "      <th>1</th>\n",
       "      <td>2025-04-02</td>\n",
       "      <td>11</td>\n",
       "      <td>7</td>\n",
       "      <td>True</td>\n",
       "    </tr>\n",
       "    <tr>\n",
       "      <th>2</th>\n",
       "      <td>2025-04-03</td>\n",
       "      <td>9</td>\n",
       "      <td>7</td>\n",
       "      <td>True</td>\n",
       "    </tr>\n",
       "    <tr>\n",
       "      <th>3</th>\n",
       "      <td>2025-04-04</td>\n",
       "      <td>11</td>\n",
       "      <td>6</td>\n",
       "      <td>True</td>\n",
       "    </tr>\n",
       "    <tr>\n",
       "      <th>4</th>\n",
       "      <td>2025-04-05</td>\n",
       "      <td>3</td>\n",
       "      <td>7</td>\n",
       "      <td>False</td>\n",
       "    </tr>\n",
       "    <tr>\n",
       "      <th>...</th>\n",
       "      <td>...</td>\n",
       "      <td>...</td>\n",
       "      <td>...</td>\n",
       "      <td>...</td>\n",
       "    </tr>\n",
       "    <tr>\n",
       "      <th>86</th>\n",
       "      <td>2025-06-26</td>\n",
       "      <td>10</td>\n",
       "      <td>7</td>\n",
       "      <td>True</td>\n",
       "    </tr>\n",
       "    <tr>\n",
       "      <th>87</th>\n",
       "      <td>2025-06-27</td>\n",
       "      <td>12</td>\n",
       "      <td>6</td>\n",
       "      <td>True</td>\n",
       "    </tr>\n",
       "    <tr>\n",
       "      <th>88</th>\n",
       "      <td>2025-06-28</td>\n",
       "      <td>5</td>\n",
       "      <td>7</td>\n",
       "      <td>False</td>\n",
       "    </tr>\n",
       "    <tr>\n",
       "      <th>89</th>\n",
       "      <td>2025-06-29</td>\n",
       "      <td>6</td>\n",
       "      <td>7</td>\n",
       "      <td>False</td>\n",
       "    </tr>\n",
       "    <tr>\n",
       "      <th>90</th>\n",
       "      <td>2025-06-30</td>\n",
       "      <td>12</td>\n",
       "      <td>7</td>\n",
       "      <td>True</td>\n",
       "    </tr>\n",
       "  </tbody>\n",
       "</table>\n",
       "<p>91 rows × 4 columns</p>\n",
       "</div>"
      ],
      "text/plain": [
       "         date  people_required  people_available  overtime\n",
       "0  2025-04-01               10                 7      True\n",
       "1  2025-04-02               11                 7      True\n",
       "2  2025-04-03                9                 7      True\n",
       "3  2025-04-04               11                 6      True\n",
       "4  2025-04-05                3                 7     False\n",
       "..        ...              ...               ...       ...\n",
       "86 2025-06-26               10                 7      True\n",
       "87 2025-06-27               12                 6      True\n",
       "88 2025-06-28                5                 7     False\n",
       "89 2025-06-29                6                 7     False\n",
       "90 2025-06-30               12                 7      True\n",
       "\n",
       "[91 rows x 4 columns]"
      ]
     },
     "execution_count": 16,
     "metadata": {},
     "output_type": "execute_result"
    }
   ],
   "source": [
    "df.drop(columns=['load_units'], inplace=True)\n",
    "\n",
    "df"
   ]
  },
  {
   "cell_type": "code",
   "execution_count": 17,
   "id": "58796389",
   "metadata": {},
   "outputs": [
    {
     "data": {
      "image/png": "[encoded data removed]",
      "text/plain": [
       "<Figure size 800x400 with 1 Axes>"
      ]
     },
     "metadata": {},
     "output_type": "display_data"
    }
   ],
   "source": [
    "# Plotting people required w.r.t dates\n",
    "\n",
    "plt.figure(figsize=(8, 4))\n",
    "df.set_index('date').people_required.plot(kind='line')\n",
    "\n",
    "plt.title(\"People required over time\")\n",
    "plt.xlabel(\"Date\")\n",
    "plt.ylabel(\"People required\")\n",
    "plt.show()"
   ]
  },
  {
   "cell_type": "markdown",
   "id": "cdbc5ac9",
   "metadata": {},
   "source": [
    "So, some kind of seasonality can be seen here.\n",
    "\n",
    "#### Let's check seasonality"
   ]
  },
  {
   "cell_type": "code",
   "execution_count": 18,
   "id": "f42e04bf",
   "metadata": {},
   "outputs": [
    {
     "data": {
      "text/plain": [
       "Index([ 4,  5, 11, 12, 18, 19, 25, 26, 32, 33, 39, 40, 46, 47, 53, 54, 60, 61,\n",
       "       67, 68, 74, 75, 81, 82, 88, 89],\n",
       "      dtype='int64')"
      ]
     },
     "execution_count": 18,
     "metadata": {},
     "output_type": "execute_result"
    }
   ],
   "source": [
    "indexes_6 = df.loc[df.people_required<=6].index\n",
    "indexes_6"
   ]
  },
  {
   "cell_type": "code",
   "execution_count": 19,
   "id": "486aeca0",
   "metadata": {},
   "outputs": [
    {
     "data": {
      "text/plain": [
       "[np.int64(1),\n",
       " np.int64(6),\n",
       " np.int64(1),\n",
       " np.int64(6),\n",
       " np.int64(1),\n",
       " np.int64(6),\n",
       " np.int64(1),\n",
       " np.int64(6),\n",
       " np.int64(1),\n",
       " np.int64(6),\n",
       " np.int64(1),\n",
       " np.int64(6),\n",
       " np.int64(1),\n",
       " np.int64(6),\n",
       " np.int64(1),\n",
       " np.int64(6),\n",
       " np.int64(1),\n",
       " np.int64(6),\n",
       " np.int64(1),\n",
       " np.int64(6),\n",
       " np.int64(1),\n",
       " np.int64(6),\n",
       " np.int64(1),\n",
       " np.int64(6),\n",
       " np.int64(1)]"
      ]
     },
     "execution_count": 19,
     "metadata": {},
     "output_type": "execute_result"
    }
   ],
   "source": [
    "differences = []\n",
    "\n",
    "for i, val in enumerate(indexes_6):\n",
    "    if i>0:\n",
    "        differences.append(indexes_6[i] - indexes_6[i-1])\n",
    "    else:\n",
    "        indexes_6[i]\n",
    "\n",
    "differences"
   ]
  },
  {
   "cell_type": "markdown",
   "id": "a62d881f",
   "metadata": {},
   "source": [
    "## Clearly this column is seasonal with seasonality of 6"
   ]
  },
  {
   "cell_type": "markdown",
   "id": "96c0005d",
   "metadata": {},
   "source": [
    "### We can also see that overtime is True when people required > people available. Let's verify it"
   ]
  },
  {
   "cell_type": "code",
   "execution_count": 20,
   "id": "63eafa20",
   "metadata": {},
   "outputs": [
    {
     "data": {
      "text/html": [
       "<div>\n",
       "<style scoped>\n",
       "    .dataframe tbody tr th:only-of-type {\n",
       "        vertical-align: middle;\n",
       "    }\n",
       "\n",
       "    .dataframe tbody tr th {\n",
       "        vertical-align: top;\n",
       "    }\n",
       "\n",
       "    .dataframe thead th {\n",
       "        text-align: right;\n",
       "    }\n",
       "</style>\n",
       "<table border=\"1\" class=\"dataframe\">\n",
       "  <thead>\n",
       "    <tr style=\"text-align: right;\">\n",
       "      <th></th>\n",
       "      <th>date</th>\n",
       "      <th>people_required</th>\n",
       "      <th>people_available</th>\n",
       "      <th>overtime</th>\n",
       "    </tr>\n",
       "  </thead>\n",
       "  <tbody>\n",
       "    <tr>\n",
       "      <th>0</th>\n",
       "      <td>2025-04-01</td>\n",
       "      <td>10</td>\n",
       "      <td>7</td>\n",
       "      <td>True</td>\n",
       "    </tr>\n",
       "    <tr>\n",
       "      <th>1</th>\n",
       "      <td>2025-04-02</td>\n",
       "      <td>11</td>\n",
       "      <td>7</td>\n",
       "      <td>True</td>\n",
       "    </tr>\n",
       "    <tr>\n",
       "      <th>2</th>\n",
       "      <td>2025-04-03</td>\n",
       "      <td>9</td>\n",
       "      <td>7</td>\n",
       "      <td>True</td>\n",
       "    </tr>\n",
       "    <tr>\n",
       "      <th>3</th>\n",
       "      <td>2025-04-04</td>\n",
       "      <td>11</td>\n",
       "      <td>6</td>\n",
       "      <td>True</td>\n",
       "    </tr>\n",
       "    <tr>\n",
       "      <th>4</th>\n",
       "      <td>2025-04-07</td>\n",
       "      <td>8</td>\n",
       "      <td>7</td>\n",
       "      <td>True</td>\n",
       "    </tr>\n",
       "  </tbody>\n",
       "</table>\n",
       "</div>"
      ],
      "text/plain": [
       "        date  people_required  people_available  overtime\n",
       "0 2025-04-01               10                 7      True\n",
       "1 2025-04-02               11                 7      True\n",
       "2 2025-04-03                9                 7      True\n",
       "3 2025-04-04               11                 6      True\n",
       "4 2025-04-07                8                 7      True"
      ]
     },
     "execution_count": 20,
     "metadata": {},
     "output_type": "execute_result"
    }
   ],
   "source": [
    "# Making a dataframe where people_required > people_available\n",
    "\n",
    "df_true = df.loc[df.people_required > df.people_available]\n",
    "df_true.reset_index(drop=True, inplace=True)\n",
    "\n",
    "df_true.head()"
   ]
  },
  {
   "cell_type": "code",
   "execution_count": 21,
   "id": "ba38e3a9",
   "metadata": {},
   "outputs": [
    {
     "data": {
      "text/plain": [
       "overtime\n",
       "True     58\n",
       "False     1\n",
       "Name: count, dtype: int64"
      ]
     },
     "execution_count": 21,
     "metadata": {},
     "output_type": "execute_result"
    }
   ],
   "source": [
    "# Checking the counts of overtime in df_true. It is expected to be all True\n",
    "\n",
    "df_true.overtime.value_counts()"
   ]
  },
  {
   "cell_type": "markdown",
   "id": "9b423729",
   "metadata": {},
   "source": [
    "#### One of overtime value is False which shouldn't be the case. Let's see this outlier value."
   ]
  },
  {
   "cell_type": "code",
   "execution_count": 22,
   "id": "b4714856",
   "metadata": {},
   "outputs": [
    {
     "data": {
      "text/html": [
       "<div>\n",
       "<style scoped>\n",
       "    .dataframe tbody tr th:only-of-type {\n",
       "        vertical-align: middle;\n",
       "    }\n",
       "\n",
       "    .dataframe tbody tr th {\n",
       "        vertical-align: top;\n",
       "    }\n",
       "\n",
       "    .dataframe thead th {\n",
       "        text-align: right;\n",
       "    }\n",
       "</style>\n",
       "<table border=\"1\" class=\"dataframe\">\n",
       "  <thead>\n",
       "    <tr style=\"text-align: right;\">\n",
       "      <th></th>\n",
       "      <th>date</th>\n",
       "      <th>people_required</th>\n",
       "      <th>people_available</th>\n",
       "      <th>overtime</th>\n",
       "    </tr>\n",
       "  </thead>\n",
       "  <tbody>\n",
       "    <tr>\n",
       "      <th>31</th>\n",
       "      <td>2025-05-20</td>\n",
       "      <td>7</td>\n",
       "      <td>5</td>\n",
       "      <td>False</td>\n",
       "    </tr>\n",
       "  </tbody>\n",
       "</table>\n",
       "</div>"
      ],
      "text/plain": [
       "         date  people_required  people_available  overtime\n",
       "31 2025-05-20                7                 5     False"
      ]
     },
     "execution_count": 22,
     "metadata": {},
     "output_type": "execute_result"
    }
   ],
   "source": [
    "df_true.loc[df_true.overtime == False]"
   ]
  },
  {
   "cell_type": "markdown",
   "id": "2bbc03cb",
   "metadata": {},
   "source": [
    "Clearly people_required > people_available, but overtime is marked False. It is clearly an **outlier** in the data.\n",
    "\n",
    "#### Now let's check points where people_required <= people_available"
   ]
  },
  {
   "cell_type": "code",
   "execution_count": 23,
   "id": "817bb3ed",
   "metadata": {},
   "outputs": [
    {
     "data": {
      "text/html": [
       "<div>\n",
       "<style scoped>\n",
       "    .dataframe tbody tr th:only-of-type {\n",
       "        vertical-align: middle;\n",
       "    }\n",
       "\n",
       "    .dataframe tbody tr th {\n",
       "        vertical-align: top;\n",
       "    }\n",
       "\n",
       "    .dataframe thead th {\n",
       "        text-align: right;\n",
       "    }\n",
       "</style>\n",
       "<table border=\"1\" class=\"dataframe\">\n",
       "  <thead>\n",
       "    <tr style=\"text-align: right;\">\n",
       "      <th></th>\n",
       "      <th>date</th>\n",
       "      <th>people_required</th>\n",
       "      <th>people_available</th>\n",
       "      <th>overtime</th>\n",
       "    </tr>\n",
       "  </thead>\n",
       "  <tbody>\n",
       "    <tr>\n",
       "      <th>0</th>\n",
       "      <td>2025-04-05</td>\n",
       "      <td>3</td>\n",
       "      <td>7</td>\n",
       "      <td>False</td>\n",
       "    </tr>\n",
       "    <tr>\n",
       "      <th>1</th>\n",
       "      <td>2025-04-06</td>\n",
       "      <td>5</td>\n",
       "      <td>7</td>\n",
       "      <td>False</td>\n",
       "    </tr>\n",
       "    <tr>\n",
       "      <th>2</th>\n",
       "      <td>2025-04-12</td>\n",
       "      <td>6</td>\n",
       "      <td>7</td>\n",
       "      <td>False</td>\n",
       "    </tr>\n",
       "    <tr>\n",
       "      <th>3</th>\n",
       "      <td>2025-04-13</td>\n",
       "      <td>6</td>\n",
       "      <td>7</td>\n",
       "      <td>False</td>\n",
       "    </tr>\n",
       "    <tr>\n",
       "      <th>4</th>\n",
       "      <td>2025-04-19</td>\n",
       "      <td>4</td>\n",
       "      <td>7</td>\n",
       "      <td>False</td>\n",
       "    </tr>\n",
       "  </tbody>\n",
       "</table>\n",
       "</div>"
      ],
      "text/plain": [
       "        date  people_required  people_available  overtime\n",
       "0 2025-04-05                3                 7     False\n",
       "1 2025-04-06                5                 7     False\n",
       "2 2025-04-12                6                 7     False\n",
       "3 2025-04-13                6                 7     False\n",
       "4 2025-04-19                4                 7     False"
      ]
     },
     "execution_count": 23,
     "metadata": {},
     "output_type": "execute_result"
    }
   ],
   "source": [
    "# Making a dataframe where people_required <= people_available\n",
    "\n",
    "df_false = df.loc[df.people_required <= df.people_available]\n",
    "df_false.reset_index(drop=True, inplace=True)\n",
    "\n",
    "df_false.head()"
   ]
  },
  {
   "cell_type": "code",
   "execution_count": 24,
   "id": "e5ebe778",
   "metadata": {},
   "outputs": [
    {
     "data": {
      "text/plain": [
       "overtime\n",
       "False    32\n",
       "Name: count, dtype: int64"
      ]
     },
     "execution_count": 24,
     "metadata": {},
     "output_type": "execute_result"
    }
   ],
   "source": [
    "# Checking the counts of overtime in df_fasle. It is expected to be all False\n",
    "\n",
    "df_false.overtime.value_counts()"
   ]
  },
  {
   "cell_type": "markdown",
   "id": "a76d80c3",
   "metadata": {},
   "source": [
    "So, all values in overtime where people_required <= people_available are correctly marked"
   ]
  },
  {
   "cell_type": "markdown",
   "id": "d0b4ef66",
   "metadata": {},
   "source": [
    "## Checking the people available column"
   ]
  },
  {
   "cell_type": "code",
   "execution_count": 25,
   "id": "14b01c64",
   "metadata": {},
   "outputs": [
    {
     "data": {
      "text/plain": [
       "people_available\n",
       "7    71\n",
       "6    19\n",
       "5     1\n",
       "Name: count, dtype: int64"
      ]
     },
     "execution_count": 25,
     "metadata": {},
     "output_type": "execute_result"
    }
   ],
   "source": [
    "# Counting the frequency\n",
    "\n",
    "df.people_available.value_counts()"
   ]
  },
  {
   "cell_type": "code",
   "execution_count": 26,
   "id": "0650111d",
   "metadata": {},
   "outputs": [
    {
     "data": {
      "image/png": "[encoded data removed]",
      "text/plain": [
       "<Figure size 640x480 with 1 Axes>"
      ]
     },
     "metadata": {},
     "output_type": "display_data"
    }
   ],
   "source": [
    "pd.DataFrame(df.groupby(['people_available']).date.count()).plot(kind='bar')\n",
    "plt.title(\"Number of staffs available frequency\")\n",
    "plt.ylabel(\"Count of staffs\")\n",
    "plt.show()"
   ]
  },
  {
   "cell_type": "markdown",
   "id": "d936a737",
   "metadata": {},
   "source": [
    "Observation:\n",
    "\n",
    "- 7 people are available for most of the days\n",
    "- 5 people are available on 1 day, and 6 on the others\n",
    "\n",
    "### Let's check total number of staffs from staffs df"
   ]
  },
  {
   "cell_type": "code",
   "execution_count": 27,
   "id": "df3fc3e3",
   "metadata": {},
   "outputs": [
    {
     "data": {
      "text/plain": [
       "array([1, 2, 3, 4, 5, 6, 7])"
      ]
     },
     "execution_count": 27,
     "metadata": {},
     "output_type": "execute_result"
    }
   ],
   "source": [
    "staffs.employee_id.unique()"
   ]
  },
  {
   "cell_type": "markdown",
   "id": "57e84c6d",
   "metadata": {},
   "source": [
    "So, we have 7 staffs in total and all are available at most of the days. Only once 2 of them are on leave."
   ]
  },
  {
   "cell_type": "code",
   "execution_count": 28,
   "id": "f8bb3a57",
   "metadata": {},
   "outputs": [
    {
     "data": {
      "text/html": [
       "<div>\n",
       "<style scoped>\n",
       "    .dataframe tbody tr th:only-of-type {\n",
       "        vertical-align: middle;\n",
       "    }\n",
       "\n",
       "    .dataframe tbody tr th {\n",
       "        vertical-align: top;\n",
       "    }\n",
       "\n",
       "    .dataframe thead th {\n",
       "        text-align: right;\n",
       "    }\n",
       "</style>\n",
       "<table border=\"1\" class=\"dataframe\">\n",
       "  <thead>\n",
       "    <tr style=\"text-align: right;\">\n",
       "      <th></th>\n",
       "      <th>date</th>\n",
       "      <th>people_required</th>\n",
       "      <th>people_available</th>\n",
       "      <th>overtime</th>\n",
       "    </tr>\n",
       "  </thead>\n",
       "  <tbody>\n",
       "    <tr>\n",
       "      <th>49</th>\n",
       "      <td>2025-05-20</td>\n",
       "      <td>7</td>\n",
       "      <td>5</td>\n",
       "      <td>False</td>\n",
       "    </tr>\n",
       "  </tbody>\n",
       "</table>\n",
       "</div>"
      ],
      "text/plain": [
       "         date  people_required  people_available  overtime\n",
       "49 2025-05-20                7                 5     False"
      ]
     },
     "execution_count": 28,
     "metadata": {},
     "output_type": "execute_result"
    }
   ],
   "source": [
    "# Check the date when 2 of them are in leave.\n",
    "\n",
    "df.loc[df.people_available == 5]"
   ]
  },
  {
   "cell_type": "markdown",
   "id": "834cd7d4",
   "metadata": {},
   "source": [
    "On 20th May 2025, 2 people are on leave."
   ]
  },
  {
   "cell_type": "code",
   "execution_count": 29,
   "id": "53506a75",
   "metadata": {},
   "outputs": [
    {
     "data": {
      "text/plain": [
       "[]"
      ]
     },
     "execution_count": 29,
     "metadata": {},
     "output_type": "execute_result"
    },
    {
     "data": {
      "image/png": "[encoded data removed]",
      "text/plain": [
       "<Figure size 1000x400 with 1 Axes>"
      ]
     },
     "metadata": {},
     "output_type": "display_data"
    }
   ],
   "source": [
    "# Plotting requirement v/s availability\n",
    "\n",
    "plt.figure(figsize=(10, 4))\n",
    "df.set_index('date').people_required.plot(kind='line')\n",
    "df.set_index('date').people_available.plot(kind='line')\n",
    "\n",
    "plt.title(\"People required v/s people available\")\n",
    "plt.xlabel(\"Date\")\n",
    "plt.ylabel(\"Number of people\")\n",
    "plt.plot()"
   ]
  },
  {
   "cell_type": "code",
   "execution_count": 30,
   "id": "b29ba2ed",
   "metadata": {},
   "outputs": [
    {
     "data": {
      "text/plain": [
       "[]"
      ]
     },
     "execution_count": 30,
     "metadata": {},
     "output_type": "execute_result"
    },
    {
     "data": {
      "image/png": "[encoded data removed]",
      "text/plain": [
       "<Figure size 1000x400 with 1 Axes>"
      ]
     },
     "metadata": {},
     "output_type": "display_data"
    }
   ],
   "source": [
    "# Plotting people avaialble\n",
    "\n",
    "plt.figure(figsize=(10, 4))\n",
    "df.set_index('date').people_available.plot(kind='line')\n",
    "\n",
    "plt.title(\"People available\")\n",
    "plt.xlabel(\"Date\")\n",
    "plt.ylabel(\"Number of people\")\n",
    "plt.plot()"
   ]
  },
  {
   "cell_type": "markdown",
   "id": "def7359b",
   "metadata": {},
   "source": [
    "So, as seen only 5 people were available on May 20th\n",
    "\n",
    "Also, there is no trend or seasonality observed here, like people_required column\n",
    "\n",
    "#### Let's look at overtime column"
   ]
  },
  {
   "cell_type": "code",
   "execution_count": 31,
   "id": "6aac7a0e",
   "metadata": {},
   "outputs": [
    {
     "data": {
      "text/plain": [
       "overtime\n",
       "True     58\n",
       "False    33\n",
       "Name: count, dtype: int64"
      ]
     },
     "execution_count": 31,
     "metadata": {},
     "output_type": "execute_result"
    }
   ],
   "source": [
    "# Checking overtime column\n",
    "\n",
    "df.overtime.value_counts()"
   ]
  },
  {
   "cell_type": "code",
   "execution_count": 32,
   "id": "0c64a55e",
   "metadata": {},
   "outputs": [
    {
     "data": {
      "image/png": "[encoded data removed]",
      "text/plain": [
       "<Figure size 600x300 with 1 Axes>"
      ]
     },
     "metadata": {},
     "output_type": "display_data"
    }
   ],
   "source": [
    "# Plotting overtime\n",
    "\n",
    "plt.figure(figsize=(6, 3))\n",
    "df.overtime.value_counts().plot(kind='bar')\n",
    "\n",
    "plt.title(\"Count of overtime\")\n",
    "plt.ylabel(\"Count\")\n",
    "plt.show()"
   ]
  },
  {
   "cell_type": "markdown",
   "id": "25fad4c4",
   "metadata": {},
   "source": [
    "### Now, let's look at the relationship between people_required, people_available and overtime"
   ]
  },
  {
   "cell_type": "markdown",
   "id": "7fa80beb",
   "metadata": {},
   "source": [
    "When people required are >=8, 6 or 7 staffs are available at max"
   ]
  },
  {
   "cell_type": "code",
   "execution_count": 33,
   "id": "ae7bf479",
   "metadata": {},
   "outputs": [
    {
     "data": {
      "image/png": "[encoded data removed]",
      "text/plain": [
       "<Figure size 1200x600 with 1 Axes>"
      ]
     },
     "metadata": {},
     "output_type": "display_data"
    }
   ],
   "source": [
    "# Plotting availability vs requirement\n",
    "\n",
    "dn = pd.DataFrame(df.groupby(['people_required', 'people_available'])['date'].count()).reset_index()\n",
    "\n",
    "plt.figure(figsize=(12, 6))\n",
    "sns.barplot(data=dn, x='people_required', y='date', hue='people_available')\n",
    "plt.title(\"People avl. w.r.t people required\")\n",
    "plt.ylabel(\"People available count\")\n",
    "\n",
    "plt.grid('on')\n",
    "plt.show()"
   ]
  },
  {
   "cell_type": "code",
   "execution_count": 34,
   "id": "c3981155",
   "metadata": {},
   "outputs": [
    {
     "data": {
      "image/png": "[encoded data removed]",
      "text/plain": [
       "<Figure size 640x480 with 1 Axes>"
      ]
     },
     "metadata": {},
     "output_type": "display_data"
    }
   ],
   "source": [
    "# People required frequency\n",
    "\n",
    "df.groupby(['people_required']).date.count().plot(kind='bar')\n",
    "plt.title(\"People required\")\n",
    "plt.xlabel(\"People Required\")\n",
    "plt.ylabel(\"Count\")\n",
    "\n",
    "plt.show()"
   ]
  },
  {
   "cell_type": "markdown",
   "id": "667c6b07",
   "metadata": {},
   "source": [
    "Wherever requirement is greater than 7, it is always overtime since number of employees are not met.\n",
    "\n",
    "#### Now let's check what number of people are available w.r.t overtime"
   ]
  },
  {
   "cell_type": "code",
   "execution_count": 35,
   "id": "98064902",
   "metadata": {},
   "outputs": [
    {
     "data": {
      "text/html": [
       "<div>\n",
       "<style scoped>\n",
       "    .dataframe tbody tr th:only-of-type {\n",
       "        vertical-align: middle;\n",
       "    }\n",
       "\n",
       "    .dataframe tbody tr th {\n",
       "        vertical-align: top;\n",
       "    }\n",
       "\n",
       "    .dataframe thead th {\n",
       "        text-align: right;\n",
       "    }\n",
       "</style>\n",
       "<table border=\"1\" class=\"dataframe\">\n",
       "  <thead>\n",
       "    <tr style=\"text-align: right;\">\n",
       "      <th></th>\n",
       "      <th>people_available</th>\n",
       "      <th>overtime</th>\n",
       "      <th>date</th>\n",
       "    </tr>\n",
       "  </thead>\n",
       "  <tbody>\n",
       "    <tr>\n",
       "      <th>0</th>\n",
       "      <td>5</td>\n",
       "      <td>False</td>\n",
       "      <td>1</td>\n",
       "    </tr>\n",
       "    <tr>\n",
       "      <th>1</th>\n",
       "      <td>6</td>\n",
       "      <td>False</td>\n",
       "      <td>6</td>\n",
       "    </tr>\n",
       "    <tr>\n",
       "      <th>2</th>\n",
       "      <td>6</td>\n",
       "      <td>True</td>\n",
       "      <td>13</td>\n",
       "    </tr>\n",
       "    <tr>\n",
       "      <th>3</th>\n",
       "      <td>7</td>\n",
       "      <td>False</td>\n",
       "      <td>26</td>\n",
       "    </tr>\n",
       "    <tr>\n",
       "      <th>4</th>\n",
       "      <td>7</td>\n",
       "      <td>True</td>\n",
       "      <td>45</td>\n",
       "    </tr>\n",
       "  </tbody>\n",
       "</table>\n",
       "</div>"
      ],
      "text/plain": [
       "   people_available  overtime  date\n",
       "0                 5     False     1\n",
       "1                 6     False     6\n",
       "2                 6      True    13\n",
       "3                 7     False    26\n",
       "4                 7      True    45"
      ]
     },
     "execution_count": 35,
     "metadata": {},
     "output_type": "execute_result"
    }
   ],
   "source": [
    "# Making a dataframe for plotting overtime v/s people available\n",
    "\n",
    "dx = pd.DataFrame(df.groupby(['people_available', 'overtime']).date.count()).reset_index()\n",
    "\n",
    "dx"
   ]
  },
  {
   "cell_type": "code",
   "execution_count": 36,
   "id": "a81c1e8c",
   "metadata": {},
   "outputs": [
    {
     "data": {
      "image/png": "[encoded data removed]",
      "text/plain": [
       "<Figure size 600x400 with 1 Axes>"
      ]
     },
     "metadata": {},
     "output_type": "display_data"
    }
   ],
   "source": [
    "# Plotting people available v/s overtime\n",
    "\n",
    "plt.figure(figsize=(6, 4))\n",
    "sns.barplot(data=dx, x='people_available', y='date', hue='overtime')\n",
    "\n",
    "plt.title(\"Overtime against number of employees\")\n",
    "plt.ylabel(\"Staff count\")\n",
    "\n",
    "plt.show()"
   ]
  },
  {
   "cell_type": "markdown",
   "id": "6d03e18b",
   "metadata": {},
   "source": [
    "We can see that most of the employees do Overtime (even if they are working with as a whole)"
   ]
  },
  {
   "cell_type": "markdown",
   "id": "abdf5605",
   "metadata": {},
   "source": [
    "### Let's see how many times do we reached overtime w.r.t people required"
   ]
  },
  {
   "cell_type": "code",
   "execution_count": 37,
   "id": "e1e0f494",
   "metadata": {},
   "outputs": [
    {
     "data": {
      "text/html": [
       "<div>\n",
       "<style scoped>\n",
       "    .dataframe tbody tr th:only-of-type {\n",
       "        vertical-align: middle;\n",
       "    }\n",
       "\n",
       "    .dataframe tbody tr th {\n",
       "        vertical-align: top;\n",
       "    }\n",
       "\n",
       "    .dataframe thead th {\n",
       "        text-align: right;\n",
       "    }\n",
       "</style>\n",
       "<table border=\"1\" class=\"dataframe\">\n",
       "  <thead>\n",
       "    <tr style=\"text-align: right;\">\n",
       "      <th></th>\n",
       "      <th>people_required</th>\n",
       "      <th>overtime</th>\n",
       "      <th>date</th>\n",
       "    </tr>\n",
       "  </thead>\n",
       "  <tbody>\n",
       "    <tr>\n",
       "      <th>0</th>\n",
       "      <td>3</td>\n",
       "      <td>False</td>\n",
       "      <td>3</td>\n",
       "    </tr>\n",
       "    <tr>\n",
       "      <th>1</th>\n",
       "      <td>4</td>\n",
       "      <td>False</td>\n",
       "      <td>11</td>\n",
       "    </tr>\n",
       "    <tr>\n",
       "      <th>2</th>\n",
       "      <td>5</td>\n",
       "      <td>False</td>\n",
       "      <td>6</td>\n",
       "    </tr>\n",
       "    <tr>\n",
       "      <th>3</th>\n",
       "      <td>6</td>\n",
       "      <td>False</td>\n",
       "      <td>6</td>\n",
       "    </tr>\n",
       "    <tr>\n",
       "      <th>4</th>\n",
       "      <td>7</td>\n",
       "      <td>False</td>\n",
       "      <td>7</td>\n",
       "    </tr>\n",
       "    <tr>\n",
       "      <th>5</th>\n",
       "      <td>8</td>\n",
       "      <td>True</td>\n",
       "      <td>14</td>\n",
       "    </tr>\n",
       "    <tr>\n",
       "      <th>6</th>\n",
       "      <td>9</td>\n",
       "      <td>True</td>\n",
       "      <td>9</td>\n",
       "    </tr>\n",
       "    <tr>\n",
       "      <th>7</th>\n",
       "      <td>10</td>\n",
       "      <td>True</td>\n",
       "      <td>17</td>\n",
       "    </tr>\n",
       "    <tr>\n",
       "      <th>8</th>\n",
       "      <td>11</td>\n",
       "      <td>True</td>\n",
       "      <td>10</td>\n",
       "    </tr>\n",
       "    <tr>\n",
       "      <th>9</th>\n",
       "      <td>12</td>\n",
       "      <td>True</td>\n",
       "      <td>8</td>\n",
       "    </tr>\n",
       "  </tbody>\n",
       "</table>\n",
       "</div>"
      ],
      "text/plain": [
       "   people_required  overtime  date\n",
       "0                3     False     3\n",
       "1                4     False    11\n",
       "2                5     False     6\n",
       "3                6     False     6\n",
       "4                7     False     7\n",
       "5                8      True    14\n",
       "6                9      True     9\n",
       "7               10      True    17\n",
       "8               11      True    10\n",
       "9               12      True     8"
      ]
     },
     "execution_count": 37,
     "metadata": {},
     "output_type": "execute_result"
    }
   ],
   "source": [
    "# Making a dataframe for plotting overtime v/s people required\n",
    "\n",
    "\n",
    "overtime_df = pd.DataFrame(df.groupby(['people_required', 'overtime']).date.count()).reset_index()\n",
    "overtime_df"
   ]
  },
  {
   "cell_type": "markdown",
   "id": "6e5655ac",
   "metadata": {},
   "source": [
    "#### According to this, there is no overtime if people required are <=7. Let's check"
   ]
  },
  {
   "cell_type": "code",
   "execution_count": 38,
   "id": "4e35f4f9",
   "metadata": {},
   "outputs": [
    {
     "data": {
      "text/plain": [
       "overtime\n",
       "False    33\n",
       "Name: count, dtype: int64"
      ]
     },
     "execution_count": 38,
     "metadata": {},
     "output_type": "execute_result"
    }
   ],
   "source": [
    "# Checking number of days of overtime if people required is <=7 \n",
    "\n",
    "df.loc[df.people_required.isin([3, 4, 5, 6, 7])].overtime.value_counts()"
   ]
  },
  {
   "cell_type": "markdown",
   "id": "910283fa",
   "metadata": {},
   "source": [
    "### So, there is no overtime when people required is <=7"
   ]
  },
  {
   "cell_type": "code",
   "execution_count": 39,
   "id": "829e7002",
   "metadata": {},
   "outputs": [
    {
     "data": {
      "image/png": "[encoded data removed]",
      "text/plain": [
       "<Figure size 640x480 with 1 Axes>"
      ]
     },
     "metadata": {},
     "output_type": "display_data"
    }
   ],
   "source": [
    "# Plotting people required v/s overtime\n",
    "\n",
    "sns.barplot(data=overtime_df, x='people_required', y='date', hue='overtime')\n",
    "plt.title(\"People required v/s Overtime\")\n",
    "\n",
    "plt.ylabel(\"Count of days\")\n",
    "\n",
    "plt.show()"
   ]
  },
  {
   "cell_type": "markdown",
   "id": "019e735e",
   "metadata": {},
   "source": [
    "## Analysing staffs df"
   ]
  },
  {
   "cell_type": "code",
   "execution_count": 40,
   "id": "ee5125ac",
   "metadata": {},
   "outputs": [
    {
     "data": {
      "text/html": [
       "<div>\n",
       "<style scoped>\n",
       "    .dataframe tbody tr th:only-of-type {\n",
       "        vertical-align: middle;\n",
       "    }\n",
       "\n",
       "    .dataframe tbody tr th {\n",
       "        vertical-align: top;\n",
       "    }\n",
       "\n",
       "    .dataframe thead th {\n",
       "        text-align: right;\n",
       "    }\n",
       "</style>\n",
       "<table border=\"1\" class=\"dataframe\">\n",
       "  <thead>\n",
       "    <tr style=\"text-align: right;\">\n",
       "      <th></th>\n",
       "      <th>employee_id</th>\n",
       "      <th>name</th>\n",
       "      <th>holidays</th>\n",
       "    </tr>\n",
       "  </thead>\n",
       "  <tbody>\n",
       "    <tr>\n",
       "      <th>0</th>\n",
       "      <td>1</td>\n",
       "      <td>Alice</td>\n",
       "      <td>2025-07-01,2025-06-16,2025-05-21,2025-05-08</td>\n",
       "    </tr>\n",
       "    <tr>\n",
       "      <th>1</th>\n",
       "      <td>2</td>\n",
       "      <td>Bob</td>\n",
       "      <td>2025-07-16, 2025-05-12,2025-05-06,2025-05-20</td>\n",
       "    </tr>\n",
       "    <tr>\n",
       "      <th>2</th>\n",
       "      <td>3</td>\n",
       "      <td>Carol</td>\n",
       "      <td>2025-07-07, 2025-06-07,2025-06-06,2025-06-27</td>\n",
       "    </tr>\n",
       "    <tr>\n",
       "      <th>3</th>\n",
       "      <td>4</td>\n",
       "      <td>Dave</td>\n",
       "      <td>2025-07-11,2025-04-29,2025-05-10,2025-05-11</td>\n",
       "    </tr>\n",
       "    <tr>\n",
       "      <th>4</th>\n",
       "      <td>5</td>\n",
       "      <td>Eve</td>\n",
       "      <td>2025-05-26,2025-06-02,2025-06-21,2025-08-11</td>\n",
       "    </tr>\n",
       "    <tr>\n",
       "      <th>5</th>\n",
       "      <td>6</td>\n",
       "      <td>Frank</td>\n",
       "      <td>2025-05-20,2025-06-13,2025-06-22</td>\n",
       "    </tr>\n",
       "    <tr>\n",
       "      <th>6</th>\n",
       "      <td>7</td>\n",
       "      <td>Grace</td>\n",
       "      <td>2025-04-22,2025-04-04,2025-06-08</td>\n",
       "    </tr>\n",
       "  </tbody>\n",
       "</table>\n",
       "</div>"
      ],
      "text/plain": [
       "   employee_id   name                                      holidays\n",
       "0            1  Alice   2025-07-01,2025-06-16,2025-05-21,2025-05-08\n",
       "1            2    Bob  2025-07-16, 2025-05-12,2025-05-06,2025-05-20\n",
       "2            3  Carol  2025-07-07, 2025-06-07,2025-06-06,2025-06-27\n",
       "3            4   Dave   2025-07-11,2025-04-29,2025-05-10,2025-05-11\n",
       "4            5    Eve   2025-05-26,2025-06-02,2025-06-21,2025-08-11\n",
       "5            6  Frank              2025-05-20,2025-06-13,2025-06-22\n",
       "6            7  Grace              2025-04-22,2025-04-04,2025-06-08"
      ]
     },
     "execution_count": 40,
     "metadata": {},
     "output_type": "execute_result"
    }
   ],
   "source": [
    "staffs"
   ]
  },
  {
   "cell_type": "code",
   "execution_count": 41,
   "id": "741279a8",
   "metadata": {},
   "outputs": [
    {
     "data": {
      "text/plain": [
       "7"
      ]
     },
     "execution_count": 41,
     "metadata": {},
     "output_type": "execute_result"
    }
   ],
   "source": [
    "# finding the total number of staffs\n",
    "\n",
    "total_staffs = len(staffs.employee_id.unique())\n",
    "total_staffs"
   ]
  },
  {
   "cell_type": "markdown",
   "id": "9b80b454",
   "metadata": {},
   "source": [
    "### Let's check the dates when they are on holiday"
   ]
  },
  {
   "cell_type": "code",
   "execution_count": 42,
   "id": "c426fe2e",
   "metadata": {},
   "outputs": [
    {
     "data": {
      "text/plain": [
       "{'Alice': '2025-07-01,2025-06-16,2025-05-21,2025-05-08',\n",
       " 'Bob': '2025-07-16, 2025-05-12,2025-05-06,2025-05-20',\n",
       " 'Carol': '2025-07-07, 2025-06-07,2025-06-06,2025-06-27',\n",
       " 'Dave': '2025-07-11,2025-04-29,2025-05-10,2025-05-11',\n",
       " 'Eve': '2025-05-26,2025-06-02,2025-06-21,2025-08-11',\n",
       " 'Frank': '2025-05-20,2025-06-13,2025-06-22',\n",
       " 'Grace': '2025-04-22,2025-04-04,2025-06-08'}"
      ]
     },
     "execution_count": 42,
     "metadata": {},
     "output_type": "execute_result"
    }
   ],
   "source": [
    "employees = staffs.set_index('name').drop(columns=['employee_id']).to_dict()['holidays']\n",
    "employees"
   ]
  },
  {
   "cell_type": "code",
   "execution_count": 43,
   "id": "5880f58f",
   "metadata": {},
   "outputs": [
    {
     "data": {
      "text/plain": [
       "{'Alice': ['2025-07-01', '2025-06-16', '2025-05-21', '2025-05-08'],\n",
       " 'Bob': ['2025-07-16', ' 2025-05-12', '2025-05-06', '2025-05-20'],\n",
       " 'Carol': ['2025-07-07', ' 2025-06-07', '2025-06-06', '2025-06-27'],\n",
       " 'Dave': ['2025-07-11', '2025-04-29', '2025-05-10', '2025-05-11'],\n",
       " 'Eve': ['2025-05-26', '2025-06-02', '2025-06-21', '2025-08-11'],\n",
       " 'Frank': ['2025-05-20', '2025-06-13', '2025-06-22'],\n",
       " 'Grace': ['2025-04-22', '2025-04-04', '2025-06-08']}"
      ]
     },
     "execution_count": 43,
     "metadata": {},
     "output_type": "execute_result"
    }
   ],
   "source": [
    "for k, v in employees.items():\n",
    "    employees[k] = v.split(\",\")\n",
    "\n",
    "employees"
   ]
  },
  {
   "cell_type": "code",
   "execution_count": 44,
   "id": "70ea9be7",
   "metadata": {},
   "outputs": [
    {
     "data": {
      "text/plain": [
       "['2025-04-04',\n",
       " '2025-04-22',\n",
       " '2025-04-29',\n",
       " '2025-05-06',\n",
       " '2025-05-08',\n",
       " '2025-05-10',\n",
       " '2025-05-11',\n",
       " '2025-05-12',\n",
       " '2025-05-20',\n",
       " '2025-05-20',\n",
       " '2025-05-21',\n",
       " '2025-05-26',\n",
       " '2025-06-02',\n",
       " '2025-06-06',\n",
       " '2025-06-07',\n",
       " '2025-06-08',\n",
       " '2025-06-13',\n",
       " '2025-06-16',\n",
       " '2025-06-21',\n",
       " '2025-06-22',\n",
       " '2025-06-27',\n",
       " '2025-07-01',\n",
       " '2025-07-07',\n",
       " '2025-07-11',\n",
       " '2025-07-16',\n",
       " '2025-08-11']"
      ]
     },
     "execution_count": 44,
     "metadata": {},
     "output_type": "execute_result"
    }
   ],
   "source": [
    "holidays = [v for v in employees.values()]\n",
    "holidays = [i.strip() for j in holidays for i in j]\n",
    "holidays = sorted(holidays)\n",
    "\n",
    "holidays"
   ]
  },
  {
   "cell_type": "code",
   "execution_count": 45,
   "id": "81f8fb6d",
   "metadata": {},
   "outputs": [
    {
     "data": {
      "text/html": [
       "<div>\n",
       "<style scoped>\n",
       "    .dataframe tbody tr th:only-of-type {\n",
       "        vertical-align: middle;\n",
       "    }\n",
       "\n",
       "    .dataframe tbody tr th {\n",
       "        vertical-align: top;\n",
       "    }\n",
       "\n",
       "    .dataframe thead th {\n",
       "        text-align: right;\n",
       "    }\n",
       "</style>\n",
       "<table border=\"1\" class=\"dataframe\">\n",
       "  <thead>\n",
       "    <tr style=\"text-align: right;\">\n",
       "      <th></th>\n",
       "      <th>date</th>\n",
       "      <th>freq</th>\n",
       "    </tr>\n",
       "  </thead>\n",
       "  <tbody>\n",
       "    <tr>\n",
       "      <th>0</th>\n",
       "      <td>2025-04-04</td>\n",
       "      <td>1</td>\n",
       "    </tr>\n",
       "    <tr>\n",
       "      <th>1</th>\n",
       "      <td>2025-04-22</td>\n",
       "      <td>1</td>\n",
       "    </tr>\n",
       "    <tr>\n",
       "      <th>2</th>\n",
       "      <td>2025-04-29</td>\n",
       "      <td>1</td>\n",
       "    </tr>\n",
       "    <tr>\n",
       "      <th>3</th>\n",
       "      <td>2025-05-06</td>\n",
       "      <td>1</td>\n",
       "    </tr>\n",
       "    <tr>\n",
       "      <th>4</th>\n",
       "      <td>2025-05-08</td>\n",
       "      <td>1</td>\n",
       "    </tr>\n",
       "    <tr>\n",
       "      <th>5</th>\n",
       "      <td>2025-05-10</td>\n",
       "      <td>1</td>\n",
       "    </tr>\n",
       "    <tr>\n",
       "      <th>6</th>\n",
       "      <td>2025-05-11</td>\n",
       "      <td>1</td>\n",
       "    </tr>\n",
       "    <tr>\n",
       "      <th>7</th>\n",
       "      <td>2025-05-12</td>\n",
       "      <td>1</td>\n",
       "    </tr>\n",
       "    <tr>\n",
       "      <th>8</th>\n",
       "      <td>2025-05-20</td>\n",
       "      <td>2</td>\n",
       "    </tr>\n",
       "    <tr>\n",
       "      <th>9</th>\n",
       "      <td>2025-05-21</td>\n",
       "      <td>1</td>\n",
       "    </tr>\n",
       "    <tr>\n",
       "      <th>10</th>\n",
       "      <td>2025-05-26</td>\n",
       "      <td>1</td>\n",
       "    </tr>\n",
       "    <tr>\n",
       "      <th>11</th>\n",
       "      <td>2025-06-02</td>\n",
       "      <td>1</td>\n",
       "    </tr>\n",
       "    <tr>\n",
       "      <th>12</th>\n",
       "      <td>2025-06-06</td>\n",
       "      <td>1</td>\n",
       "    </tr>\n",
       "    <tr>\n",
       "      <th>13</th>\n",
       "      <td>2025-06-07</td>\n",
       "      <td>1</td>\n",
       "    </tr>\n",
       "    <tr>\n",
       "      <th>14</th>\n",
       "      <td>2025-06-08</td>\n",
       "      <td>1</td>\n",
       "    </tr>\n",
       "    <tr>\n",
       "      <th>15</th>\n",
       "      <td>2025-06-13</td>\n",
       "      <td>1</td>\n",
       "    </tr>\n",
       "    <tr>\n",
       "      <th>16</th>\n",
       "      <td>2025-06-16</td>\n",
       "      <td>1</td>\n",
       "    </tr>\n",
       "    <tr>\n",
       "      <th>17</th>\n",
       "      <td>2025-06-21</td>\n",
       "      <td>1</td>\n",
       "    </tr>\n",
       "    <tr>\n",
       "      <th>18</th>\n",
       "      <td>2025-06-22</td>\n",
       "      <td>1</td>\n",
       "    </tr>\n",
       "    <tr>\n",
       "      <th>19</th>\n",
       "      <td>2025-06-27</td>\n",
       "      <td>1</td>\n",
       "    </tr>\n",
       "    <tr>\n",
       "      <th>20</th>\n",
       "      <td>2025-07-01</td>\n",
       "      <td>1</td>\n",
       "    </tr>\n",
       "    <tr>\n",
       "      <th>21</th>\n",
       "      <td>2025-07-07</td>\n",
       "      <td>1</td>\n",
       "    </tr>\n",
       "    <tr>\n",
       "      <th>22</th>\n",
       "      <td>2025-07-11</td>\n",
       "      <td>1</td>\n",
       "    </tr>\n",
       "    <tr>\n",
       "      <th>23</th>\n",
       "      <td>2025-07-16</td>\n",
       "      <td>1</td>\n",
       "    </tr>\n",
       "    <tr>\n",
       "      <th>24</th>\n",
       "      <td>2025-08-11</td>\n",
       "      <td>1</td>\n",
       "    </tr>\n",
       "  </tbody>\n",
       "</table>\n",
       "</div>"
      ],
      "text/plain": [
       "          date  freq\n",
       "0   2025-04-04     1\n",
       "1   2025-04-22     1\n",
       "2   2025-04-29     1\n",
       "3   2025-05-06     1\n",
       "4   2025-05-08     1\n",
       "5   2025-05-10     1\n",
       "6   2025-05-11     1\n",
       "7   2025-05-12     1\n",
       "8   2025-05-20     2\n",
       "9   2025-05-21     1\n",
       "10  2025-05-26     1\n",
       "11  2025-06-02     1\n",
       "12  2025-06-06     1\n",
       "13  2025-06-07     1\n",
       "14  2025-06-08     1\n",
       "15  2025-06-13     1\n",
       "16  2025-06-16     1\n",
       "17  2025-06-21     1\n",
       "18  2025-06-22     1\n",
       "19  2025-06-27     1\n",
       "20  2025-07-01     1\n",
       "21  2025-07-07     1\n",
       "22  2025-07-11     1\n",
       "23  2025-07-16     1\n",
       "24  2025-08-11     1"
      ]
     },
     "execution_count": 45,
     "metadata": {},
     "output_type": "execute_result"
    }
   ],
   "source": [
    "# Now let's check dates and freuency of absentee in the dates to check if it matches our historical data person available\n",
    "\n",
    "holiday_freq = {}\n",
    "for dt in set(holidays):\n",
    "    holiday_freq[dt] = holidays.count(dt)\n",
    "\n",
    "holiday_freq = pd.DataFrame({'freq': holiday_freq})\n",
    "holiday_freq.reset_index(inplace=True)\n",
    "holiday_freq.rename(columns={'index': 'date'}, inplace=True)\n",
    "holiday_freq.sort_values(by=['date'], ascending=True, inplace=True)\n",
    "holiday_freq.reset_index(drop=True, inplace=True)\n",
    "\n",
    "holiday_freq"
   ]
  },
  {
   "cell_type": "markdown",
   "id": "16d73625",
   "metadata": {},
   "source": [
    "### Now let's check holidays against the historical people available"
   ]
  },
  {
   "cell_type": "code",
   "execution_count": 46,
   "id": "80262414",
   "metadata": {},
   "outputs": [
    {
     "data": {
      "text/html": [
       "<div>\n",
       "<style scoped>\n",
       "    .dataframe tbody tr th:only-of-type {\n",
       "        vertical-align: middle;\n",
       "    }\n",
       "\n",
       "    .dataframe tbody tr th {\n",
       "        vertical-align: top;\n",
       "    }\n",
       "\n",
       "    .dataframe thead th {\n",
       "        text-align: right;\n",
       "    }\n",
       "</style>\n",
       "<table border=\"1\" class=\"dataframe\">\n",
       "  <thead>\n",
       "    <tr style=\"text-align: right;\">\n",
       "      <th></th>\n",
       "      <th>date</th>\n",
       "      <th>holiday</th>\n",
       "    </tr>\n",
       "  </thead>\n",
       "  <tbody>\n",
       "    <tr>\n",
       "      <th>0</th>\n",
       "      <td>2025-04-04</td>\n",
       "      <td>1</td>\n",
       "    </tr>\n",
       "    <tr>\n",
       "      <th>1</th>\n",
       "      <td>2025-04-22</td>\n",
       "      <td>1</td>\n",
       "    </tr>\n",
       "    <tr>\n",
       "      <th>2</th>\n",
       "      <td>2025-04-29</td>\n",
       "      <td>1</td>\n",
       "    </tr>\n",
       "    <tr>\n",
       "      <th>3</th>\n",
       "      <td>2025-05-06</td>\n",
       "      <td>1</td>\n",
       "    </tr>\n",
       "    <tr>\n",
       "      <th>4</th>\n",
       "      <td>2025-05-08</td>\n",
       "      <td>1</td>\n",
       "    </tr>\n",
       "    <tr>\n",
       "      <th>5</th>\n",
       "      <td>2025-05-10</td>\n",
       "      <td>1</td>\n",
       "    </tr>\n",
       "    <tr>\n",
       "      <th>6</th>\n",
       "      <td>2025-05-11</td>\n",
       "      <td>1</td>\n",
       "    </tr>\n",
       "    <tr>\n",
       "      <th>7</th>\n",
       "      <td>2025-05-12</td>\n",
       "      <td>1</td>\n",
       "    </tr>\n",
       "    <tr>\n",
       "      <th>8</th>\n",
       "      <td>2025-05-20</td>\n",
       "      <td>2</td>\n",
       "    </tr>\n",
       "    <tr>\n",
       "      <th>9</th>\n",
       "      <td>2025-05-21</td>\n",
       "      <td>1</td>\n",
       "    </tr>\n",
       "    <tr>\n",
       "      <th>10</th>\n",
       "      <td>2025-05-26</td>\n",
       "      <td>1</td>\n",
       "    </tr>\n",
       "    <tr>\n",
       "      <th>11</th>\n",
       "      <td>2025-06-02</td>\n",
       "      <td>1</td>\n",
       "    </tr>\n",
       "    <tr>\n",
       "      <th>12</th>\n",
       "      <td>2025-06-06</td>\n",
       "      <td>1</td>\n",
       "    </tr>\n",
       "    <tr>\n",
       "      <th>13</th>\n",
       "      <td>2025-06-07</td>\n",
       "      <td>1</td>\n",
       "    </tr>\n",
       "    <tr>\n",
       "      <th>14</th>\n",
       "      <td>2025-06-08</td>\n",
       "      <td>1</td>\n",
       "    </tr>\n",
       "    <tr>\n",
       "      <th>15</th>\n",
       "      <td>2025-06-13</td>\n",
       "      <td>1</td>\n",
       "    </tr>\n",
       "    <tr>\n",
       "      <th>16</th>\n",
       "      <td>2025-06-16</td>\n",
       "      <td>1</td>\n",
       "    </tr>\n",
       "    <tr>\n",
       "      <th>17</th>\n",
       "      <td>2025-06-21</td>\n",
       "      <td>1</td>\n",
       "    </tr>\n",
       "    <tr>\n",
       "      <th>18</th>\n",
       "      <td>2025-06-22</td>\n",
       "      <td>1</td>\n",
       "    </tr>\n",
       "    <tr>\n",
       "      <th>19</th>\n",
       "      <td>2025-06-27</td>\n",
       "      <td>1</td>\n",
       "    </tr>\n",
       "  </tbody>\n",
       "</table>\n",
       "</div>"
      ],
      "text/plain": [
       "         date  holiday\n",
       "0  2025-04-04        1\n",
       "1  2025-04-22        1\n",
       "2  2025-04-29        1\n",
       "3  2025-05-06        1\n",
       "4  2025-05-08        1\n",
       "5  2025-05-10        1\n",
       "6  2025-05-11        1\n",
       "7  2025-05-12        1\n",
       "8  2025-05-20        2\n",
       "9  2025-05-21        1\n",
       "10 2025-05-26        1\n",
       "11 2025-06-02        1\n",
       "12 2025-06-06        1\n",
       "13 2025-06-07        1\n",
       "14 2025-06-08        1\n",
       "15 2025-06-13        1\n",
       "16 2025-06-16        1\n",
       "17 2025-06-21        1\n",
       "18 2025-06-22        1\n",
       "19 2025-06-27        1"
      ]
     },
     "execution_count": 46,
     "metadata": {},
     "output_type": "execute_result"
    }
   ],
   "source": [
    "# Filtering out data where all people were not available to match with the holidays data in the staffs data\n",
    "\n",
    "not_all_avl = df.loc[df.people_available<7].reset_index(drop=True)\n",
    "not_all_avl['holiday'] = not_all_avl.people_available.apply(lambda x: 7-x)\n",
    "not_all_avl.drop(columns=['people_required', 'overtime', 'people_available'], inplace=True)\n",
    "\n",
    "not_all_avl"
   ]
  },
  {
   "cell_type": "code",
   "execution_count": 47,
   "id": "b86c482e",
   "metadata": {},
   "outputs": [
    {
     "data": {
      "text/html": [
       "<div>\n",
       "<style scoped>\n",
       "    .dataframe tbody tr th:only-of-type {\n",
       "        vertical-align: middle;\n",
       "    }\n",
       "\n",
       "    .dataframe tbody tr th {\n",
       "        vertical-align: top;\n",
       "    }\n",
       "\n",
       "    .dataframe thead th {\n",
       "        text-align: right;\n",
       "    }\n",
       "</style>\n",
       "<table border=\"1\" class=\"dataframe\">\n",
       "  <thead>\n",
       "    <tr style=\"text-align: right;\">\n",
       "      <th></th>\n",
       "      <th>date</th>\n",
       "      <th>holiday</th>\n",
       "      <th>freq</th>\n",
       "    </tr>\n",
       "  </thead>\n",
       "  <tbody>\n",
       "    <tr>\n",
       "      <th>0</th>\n",
       "      <td>2025-04-04</td>\n",
       "      <td>1</td>\n",
       "      <td>1</td>\n",
       "    </tr>\n",
       "    <tr>\n",
       "      <th>1</th>\n",
       "      <td>2025-04-22</td>\n",
       "      <td>1</td>\n",
       "      <td>1</td>\n",
       "    </tr>\n",
       "    <tr>\n",
       "      <th>2</th>\n",
       "      <td>2025-04-29</td>\n",
       "      <td>1</td>\n",
       "      <td>1</td>\n",
       "    </tr>\n",
       "    <tr>\n",
       "      <th>3</th>\n",
       "      <td>2025-05-06</td>\n",
       "      <td>1</td>\n",
       "      <td>1</td>\n",
       "    </tr>\n",
       "    <tr>\n",
       "      <th>4</th>\n",
       "      <td>2025-05-08</td>\n",
       "      <td>1</td>\n",
       "      <td>1</td>\n",
       "    </tr>\n",
       "    <tr>\n",
       "      <th>5</th>\n",
       "      <td>2025-05-10</td>\n",
       "      <td>1</td>\n",
       "      <td>1</td>\n",
       "    </tr>\n",
       "    <tr>\n",
       "      <th>6</th>\n",
       "      <td>2025-05-11</td>\n",
       "      <td>1</td>\n",
       "      <td>1</td>\n",
       "    </tr>\n",
       "    <tr>\n",
       "      <th>7</th>\n",
       "      <td>2025-05-12</td>\n",
       "      <td>1</td>\n",
       "      <td>1</td>\n",
       "    </tr>\n",
       "    <tr>\n",
       "      <th>8</th>\n",
       "      <td>2025-05-20</td>\n",
       "      <td>2</td>\n",
       "      <td>2</td>\n",
       "    </tr>\n",
       "    <tr>\n",
       "      <th>9</th>\n",
       "      <td>2025-05-21</td>\n",
       "      <td>1</td>\n",
       "      <td>1</td>\n",
       "    </tr>\n",
       "    <tr>\n",
       "      <th>10</th>\n",
       "      <td>2025-05-26</td>\n",
       "      <td>1</td>\n",
       "      <td>1</td>\n",
       "    </tr>\n",
       "    <tr>\n",
       "      <th>11</th>\n",
       "      <td>2025-06-02</td>\n",
       "      <td>1</td>\n",
       "      <td>1</td>\n",
       "    </tr>\n",
       "    <tr>\n",
       "      <th>12</th>\n",
       "      <td>2025-06-06</td>\n",
       "      <td>1</td>\n",
       "      <td>1</td>\n",
       "    </tr>\n",
       "    <tr>\n",
       "      <th>13</th>\n",
       "      <td>2025-06-07</td>\n",
       "      <td>1</td>\n",
       "      <td>1</td>\n",
       "    </tr>\n",
       "    <tr>\n",
       "      <th>14</th>\n",
       "      <td>2025-06-08</td>\n",
       "      <td>1</td>\n",
       "      <td>1</td>\n",
       "    </tr>\n",
       "    <tr>\n",
       "      <th>15</th>\n",
       "      <td>2025-06-13</td>\n",
       "      <td>1</td>\n",
       "      <td>1</td>\n",
       "    </tr>\n",
       "    <tr>\n",
       "      <th>16</th>\n",
       "      <td>2025-06-16</td>\n",
       "      <td>1</td>\n",
       "      <td>1</td>\n",
       "    </tr>\n",
       "    <tr>\n",
       "      <th>17</th>\n",
       "      <td>2025-06-21</td>\n",
       "      <td>1</td>\n",
       "      <td>1</td>\n",
       "    </tr>\n",
       "    <tr>\n",
       "      <th>18</th>\n",
       "      <td>2025-06-22</td>\n",
       "      <td>1</td>\n",
       "      <td>1</td>\n",
       "    </tr>\n",
       "    <tr>\n",
       "      <th>19</th>\n",
       "      <td>2025-06-27</td>\n",
       "      <td>1</td>\n",
       "      <td>1</td>\n",
       "    </tr>\n",
       "  </tbody>\n",
       "</table>\n",
       "</div>"
      ],
      "text/plain": [
       "         date  holiday  freq\n",
       "0  2025-04-04        1     1\n",
       "1  2025-04-22        1     1\n",
       "2  2025-04-29        1     1\n",
       "3  2025-05-06        1     1\n",
       "4  2025-05-08        1     1\n",
       "5  2025-05-10        1     1\n",
       "6  2025-05-11        1     1\n",
       "7  2025-05-12        1     1\n",
       "8  2025-05-20        2     2\n",
       "9  2025-05-21        1     1\n",
       "10 2025-05-26        1     1\n",
       "11 2025-06-02        1     1\n",
       "12 2025-06-06        1     1\n",
       "13 2025-06-07        1     1\n",
       "14 2025-06-08        1     1\n",
       "15 2025-06-13        1     1\n",
       "16 2025-06-16        1     1\n",
       "17 2025-06-21        1     1\n",
       "18 2025-06-22        1     1\n",
       "19 2025-06-27        1     1"
      ]
     },
     "execution_count": 47,
     "metadata": {},
     "output_type": "execute_result"
    }
   ],
   "source": [
    "# let's match the holidays count in historical data with frequency of holidays given in staff data\n",
    "\n",
    "hfreq = pd.concat([not_all_avl, holiday_freq['freq']], axis=1, join='inner')\n",
    "hfreq"
   ]
  },
  {
   "cell_type": "code",
   "execution_count": 48,
   "id": "faf14161",
   "metadata": {},
   "outputs": [
    {
     "data": {
      "text/html": [
       "<div>\n",
       "<style scoped>\n",
       "    .dataframe tbody tr th:only-of-type {\n",
       "        vertical-align: middle;\n",
       "    }\n",
       "\n",
       "    .dataframe tbody tr th {\n",
       "        vertical-align: top;\n",
       "    }\n",
       "\n",
       "    .dataframe thead th {\n",
       "        text-align: right;\n",
       "    }\n",
       "</style>\n",
       "<table border=\"1\" class=\"dataframe\">\n",
       "  <thead>\n",
       "    <tr style=\"text-align: right;\">\n",
       "      <th></th>\n",
       "      <th>date</th>\n",
       "      <th>holiday</th>\n",
       "      <th>freq</th>\n",
       "    </tr>\n",
       "  </thead>\n",
       "  <tbody>\n",
       "  </tbody>\n",
       "</table>\n",
       "</div>"
      ],
      "text/plain": [
       "Empty DataFrame\n",
       "Columns: [date, holiday, freq]\n",
       "Index: []"
      ]
     },
     "execution_count": 48,
     "metadata": {},
     "output_type": "execute_result"
    }
   ],
   "source": [
    "# Checking for rows where holiday dates does not matches\n",
    "\n",
    "hfreq.loc[hfreq.holiday != hfreq.freq]"
   ]
  },
  {
   "cell_type": "markdown",
   "id": "3622d06f",
   "metadata": {},
   "source": [
    "## Hence there is a relationship in both the data tables given. Holidays in staffs impacts the people available count in the historical data."
   ]
  },
  {
   "cell_type": "markdown",
   "id": "96a5a88a",
   "metadata": {},
   "source": [
    "# Forecasting\n",
    "\n",
    "### There are 2 approaches we will be trying to find out the best results\n",
    "- Simple MA\n",
    "- Seasonal decomposition using Time Series\n",
    "\n",
    "Since load_units is same as people required in the data, we can use any for forecasting"
   ]
  },
  {
   "cell_type": "markdown",
   "id": "5b90dbfd",
   "metadata": {},
   "source": [
    "### Forecasting using Moving Average"
   ]
  },
  {
   "cell_type": "code",
   "execution_count": 49,
   "id": "9e61ef2a",
   "metadata": {},
   "outputs": [
    {
     "name": "stdout",
     "output_type": "stream",
     "text": [
      "        date  reqd_forecast\n",
      "0 2025-07-01              9\n",
      "1 2025-07-02              9\n",
      "2 2025-07-03              9\n",
      "3 2025-07-04              8\n",
      "4 2025-07-05              8\n",
      "5 2025-07-06              8\n",
      "6 2025-07-07              9\n"
     ]
    }
   ],
   "source": [
    "# Get the last 7 days' sales\n",
    "last_7_reqd = df['people_required'][-7:].values\n",
    "\n",
    "forecast_dates = pd.date_range(df['date'].max() + pd.Timedelta(days=1), periods=7)\n",
    "\n",
    "forecasts = []\n",
    "for i in range(7):\n",
    "    forecast = int(np.mean(last_7_reqd))\n",
    "    forecasts.append(forecast)\n",
    "    # For iterative forecasting (rolling window with forecasts), uncomment below:\n",
    "    last_7_reqd = list(last_7_reqd[1:]) + [forecast]\n",
    "\n",
    "forecast_df = pd.DataFrame({\n",
    "    'date': forecast_dates,\n",
    "    'reqd_forecast': forecasts\n",
    "})\n",
    "\n",
    "print(forecast_df)\n"
   ]
  },
  {
   "cell_type": "markdown",
   "id": "5eb67823",
   "metadata": {},
   "source": [
    "#### Forecast doesn't look that good and is also giving constant values, let's try other approach"
   ]
  },
  {
   "cell_type": "code",
   "execution_count": 50,
   "id": "4f4817a9",
   "metadata": {},
   "outputs": [
    {
     "data": {
      "text/plain": [
       "day_of_week\n",
       "0     9.230769\n",
       "1     9.384615\n",
       "2     9.846154\n",
       "3     9.000000\n",
       "4    10.076923\n",
       "5     4.384615\n",
       "6     4.769231\n",
       "Name: people_required, dtype: float64"
      ]
     },
     "execution_count": 50,
     "metadata": {},
     "output_type": "execute_result"
    }
   ],
   "source": [
    "# Adding additional datetime column, and getting mean of people required column w.r.t day of week\n",
    "df['day_of_week'] = df['date'].dt.dayofweek\n",
    "dow_means = df.groupby('day_of_week')['people_required'].mean()\n",
    "\n",
    "dow_means\n"
   ]
  },
  {
   "cell_type": "code",
   "execution_count": 51,
   "id": "fd65b339",
   "metadata": {},
   "outputs": [
    {
     "name": "stdout",
     "output_type": "stream",
     "text": [
      "[1, 2, 3, 4, 5, 6, 0] [9, 10, 9, 10, 4, 5, 9] DatetimeIndex(['2025-07-01', '2025-07-02', '2025-07-03', '2025-07-04',\n",
      "               '2025-07-05', '2025-07-06', '2025-07-07'],\n",
      "              dtype='datetime64[ns]', freq='D')\n",
      "        date  people_required\n",
      "0 2025-07-01                9\n",
      "1 2025-07-02               10\n",
      "2 2025-07-03                9\n",
      "3 2025-07-04               10\n",
      "4 2025-07-05                4\n",
      "5 2025-07-06                5\n",
      "6 2025-07-07                9\n"
     ]
    }
   ],
   "source": [
    "# We will use days of the week mean and substitute it to the future dates\n",
    "\n",
    "future_days = [(df['date'].max() + pd.Timedelta(days=i)).dayofweek for i in range(1, 8)]\n",
    "people_required = [round(dow_means[day]) for day in future_days]\n",
    "future_dates = pd.date_range(df['date'].max() + pd.Timedelta(days=1), periods=7)\n",
    "\n",
    "print(future_days, people_required, future_dates)\n",
    "\n",
    "forecast_df = pd.DataFrame({\n",
    "    'date': future_dates,\n",
    "    'people_required': people_required\n",
    "})\n",
    "\n",
    "print(forecast_df)"
   ]
  },
  {
   "cell_type": "code",
   "execution_count": 52,
   "id": "a41696bf",
   "metadata": {},
   "outputs": [
    {
     "data": {
      "text/plain": [
       "[<matplotlib.lines.Line2D at 0x14481ead0>]"
      ]
     },
     "execution_count": 52,
     "metadata": {},
     "output_type": "execute_result"
    },
    {
     "data": {
      "image/png": "[encoded data removed]",
      "text/plain": [
       "<Figure size 640x480 with 1 Axes>"
      ]
     },
     "metadata": {},
     "output_type": "display_data"
    }
   ],
   "source": [
    "# Let's plot and check the seasonality\n",
    "\n",
    "plt.plot(list(df.people_required) + people_required)"
   ]
  },
  {
   "cell_type": "markdown",
   "id": "43bd2219",
   "metadata": {},
   "source": [
    "This forecast looks better. And is also seasonal in continuation with the previous values"
   ]
  },
  {
   "cell_type": "markdown",
   "id": "b0941806",
   "metadata": {},
   "source": [
    "### Seasonal decomposition model"
   ]
  },
  {
   "cell_type": "code",
   "execution_count": 53,
   "id": "f287af0b",
   "metadata": {},
   "outputs": [
    {
     "data": {
      "image/png": "[encoded data removed]",
      "text/plain": [
       "<Figure size 640x480 with 4 Axes>"
      ]
     },
     "metadata": {},
     "output_type": "display_data"
    },
    {
     "name": "stdout",
     "output_type": "stream",
     "text": [
      "        date  people_required\n",
      "0 2025-07-01               10\n",
      "1 2025-07-02               10\n",
      "2 2025-07-03                9\n",
      "3 2025-07-04               10\n",
      "4 2025-07-05                5\n",
      "5 2025-07-06                5\n",
      "6 2025-07-07               10\n"
     ]
    }
   ],
   "source": [
    "from statsmodels.tsa.seasonal import seasonal_decompose\n",
    "\n",
    "df.set_index('date', inplace=True)\n",
    "\n",
    "# Choosing column with demand (adjust column name if needed)\n",
    "series = df['people_required']\n",
    "\n",
    "# Applying seasonal decomposition\n",
    "result = seasonal_decompose(series, model='additive', period=7)  # 7 for weekly seasonality\n",
    "\n",
    "# Plotting the decomposition\n",
    "result.plot()\n",
    "plt.suptitle(\"Seasonal Decomposition of Load Units\", fontsize=16)\n",
    "plt.show()\n",
    "\n",
    "# et the seasonal component for the upcoming 7 days\n",
    "# We'll use the last available trend + seasonal component for forecasting\n",
    "\n",
    "last_trend = result.trend.dropna()[-7:].mean()    # mean of last week trend\n",
    "seasonal_vals = result.seasonal[-7:]              # last 7 days of seasonality\n",
    "\n",
    "# Forecast for next 7 days = last trend + seasonal pattern\n",
    "forecast = last_trend + seasonal_vals.values\n",
    "future_dates = pd.date_range(df.index.max() + pd.Timedelta(days=1), periods=7)\n",
    "\n",
    "forecast_df2 = pd.DataFrame({\n",
    "    'date': future_dates,\n",
    "    'people_required': forecast.round().astype(int)\n",
    "})\n",
    "\n",
    "print(forecast_df2)\n"
   ]
  },
  {
   "cell_type": "markdown",
   "id": "9a9b476e",
   "metadata": {},
   "source": [
    "It is almost same as previous model. Let's use previous model as the final forecast"
   ]
  },
  {
   "cell_type": "markdown",
   "id": "01439f93",
   "metadata": {},
   "source": [
    "## Now let's check number of people available every days in the next 7 days\n",
    "\n"
   ]
  },
  {
   "cell_type": "code",
   "execution_count": 54,
   "id": "8f78c311",
   "metadata": {},
   "outputs": [
    {
     "data": {
      "text/plain": [
       "DatetimeIndex(['2025-07-01', '2025-07-02', '2025-07-03', '2025-07-04',\n",
       "               '2025-07-05', '2025-07-06', '2025-07-07'],\n",
       "              dtype='datetime64[ns]', freq='D')"
      ]
     },
     "execution_count": 54,
     "metadata": {},
     "output_type": "execute_result"
    }
   ],
   "source": [
    "future_dates"
   ]
  },
  {
   "cell_type": "code",
   "execution_count": 55,
   "id": "5332287b",
   "metadata": {},
   "outputs": [
    {
     "data": {
      "text/html": [
       "<div>\n",
       "<style scoped>\n",
       "    .dataframe tbody tr th:only-of-type {\n",
       "        vertical-align: middle;\n",
       "    }\n",
       "\n",
       "    .dataframe tbody tr th {\n",
       "        vertical-align: top;\n",
       "    }\n",
       "\n",
       "    .dataframe thead th {\n",
       "        text-align: right;\n",
       "    }\n",
       "</style>\n",
       "<table border=\"1\" class=\"dataframe\">\n",
       "  <thead>\n",
       "    <tr style=\"text-align: right;\">\n",
       "      <th></th>\n",
       "      <th>date</th>\n",
       "      <th>freq</th>\n",
       "    </tr>\n",
       "  </thead>\n",
       "  <tbody>\n",
       "    <tr>\n",
       "      <th>20</th>\n",
       "      <td>2025-07-01</td>\n",
       "      <td>1</td>\n",
       "    </tr>\n",
       "    <tr>\n",
       "      <th>21</th>\n",
       "      <td>2025-07-07</td>\n",
       "      <td>1</td>\n",
       "    </tr>\n",
       "  </tbody>\n",
       "</table>\n",
       "</div>"
      ],
      "text/plain": [
       "          date  freq\n",
       "20  2025-07-01     1\n",
       "21  2025-07-07     1"
      ]
     },
     "execution_count": 55,
     "metadata": {},
     "output_type": "execute_result"
    }
   ],
   "source": [
    "# List of dates when less than 7 people are available\n",
    "\n",
    "holidays_future = holiday_freq.loc[holiday_freq.date.isin([i.strftime(\"%Y-%m-%d\") for i in future_dates])]\n",
    "holidays_future"
   ]
  },
  {
   "cell_type": "markdown",
   "id": "18ada731",
   "metadata": {},
   "source": [
    "So, we have 6 people available on 1st and 7th July. And on other days, all 7 people are available."
   ]
  },
  {
   "cell_type": "code",
   "execution_count": 56,
   "id": "0776bb31",
   "metadata": {},
   "outputs": [
    {
     "data": {
      "text/plain": [
       "{'2025-07-01': np.int64(6),\n",
       " '2025-07-02': 7,\n",
       " '2025-07-03': 7,\n",
       " '2025-07-04': 7,\n",
       " '2025-07-05': 7,\n",
       " '2025-07-06': 7,\n",
       " '2025-07-07': np.int64(6)}"
      ]
     },
     "execution_count": 56,
     "metadata": {},
     "output_type": "execute_result"
    }
   ],
   "source": [
    "# getting the total count of people available on each days\n",
    "\n",
    "availability = {}\n",
    "\n",
    "for dt in future_dates:\n",
    "    date = dt.strftime(\"%Y-%m-%d\")\n",
    "    availability[date] = 7\n",
    "    if date in holidays_future.date.unique():\n",
    "        availability[date] = 7 - holidays_future.loc[holidays_future.date == date, 'freq'].values[0]\n",
    "\n",
    "availability"
   ]
  },
  {
   "cell_type": "markdown",
   "id": "d7415f09",
   "metadata": {},
   "source": [
    "### Getting list of people who are available on each days"
   ]
  },
  {
   "cell_type": "code",
   "execution_count": 57,
   "id": "73bd7fa8",
   "metadata": {},
   "outputs": [
    {
     "data": {
      "text/plain": [
       "{'2025-07-01': ['Bob', 'Carol', 'Dave', 'Eve', 'Frank', 'Grace'],\n",
       " '2025-07-02': ['Alice', 'Bob', 'Carol', 'Dave', 'Eve', 'Frank', 'Grace'],\n",
       " '2025-07-03': ['Alice', 'Bob', 'Carol', 'Dave', 'Eve', 'Frank', 'Grace'],\n",
       " '2025-07-04': ['Alice', 'Bob', 'Carol', 'Dave', 'Eve', 'Frank', 'Grace'],\n",
       " '2025-07-05': ['Alice', 'Bob', 'Carol', 'Dave', 'Eve', 'Frank', 'Grace'],\n",
       " '2025-07-06': ['Alice', 'Bob', 'Carol', 'Dave', 'Eve', 'Frank', 'Grace'],\n",
       " '2025-07-07': ['Alice', 'Bob', 'Dave', 'Eve', 'Frank', 'Grace']}"
      ]
     },
     "execution_count": 57,
     "metadata": {},
     "output_type": "execute_result"
    }
   ],
   "source": [
    "peoples_avl = {}\n",
    "\n",
    "for dt in future_dates:\n",
    "    date = dt.strftime(\"%Y-%m-%d\")\n",
    "    peoples_avl[date] = []\n",
    "    for k, v in employees.items():\n",
    "        if date not in v:\n",
    "            peoples_avl[date].append(k)\n",
    "\n",
    "peoples_avl"
   ]
  },
  {
   "cell_type": "markdown",
   "id": "0f8d045e",
   "metadata": {},
   "source": [
    "## Making a new dataframe and concating the forecasted data"
   ]
  },
  {
   "cell_type": "code",
   "execution_count": 58,
   "id": "ea02d430",
   "metadata": {},
   "outputs": [
    {
     "data": {
      "text/html": [
       "<div>\n",
       "<style scoped>\n",
       "    .dataframe tbody tr th:only-of-type {\n",
       "        vertical-align: middle;\n",
       "    }\n",
       "\n",
       "    .dataframe tbody tr th {\n",
       "        vertical-align: top;\n",
       "    }\n",
       "\n",
       "    .dataframe thead th {\n",
       "        text-align: right;\n",
       "    }\n",
       "</style>\n",
       "<table border=\"1\" class=\"dataframe\">\n",
       "  <thead>\n",
       "    <tr style=\"text-align: right;\">\n",
       "      <th></th>\n",
       "      <th>date</th>\n",
       "    </tr>\n",
       "  </thead>\n",
       "  <tbody>\n",
       "    <tr>\n",
       "      <th>0</th>\n",
       "      <td>2025-07-01</td>\n",
       "    </tr>\n",
       "    <tr>\n",
       "      <th>1</th>\n",
       "      <td>2025-07-02</td>\n",
       "    </tr>\n",
       "    <tr>\n",
       "      <th>2</th>\n",
       "      <td>2025-07-03</td>\n",
       "    </tr>\n",
       "    <tr>\n",
       "      <th>3</th>\n",
       "      <td>2025-07-04</td>\n",
       "    </tr>\n",
       "    <tr>\n",
       "      <th>4</th>\n",
       "      <td>2025-07-05</td>\n",
       "    </tr>\n",
       "    <tr>\n",
       "      <th>5</th>\n",
       "      <td>2025-07-06</td>\n",
       "    </tr>\n",
       "    <tr>\n",
       "      <th>6</th>\n",
       "      <td>2025-07-07</td>\n",
       "    </tr>\n",
       "  </tbody>\n",
       "</table>\n",
       "</div>"
      ],
      "text/plain": [
       "        date\n",
       "0 2025-07-01\n",
       "1 2025-07-02\n",
       "2 2025-07-03\n",
       "3 2025-07-04\n",
       "4 2025-07-05\n",
       "5 2025-07-06\n",
       "6 2025-07-07"
      ]
     },
     "execution_count": 58,
     "metadata": {},
     "output_type": "execute_result"
    }
   ],
   "source": [
    "df_future = pd.DataFrame(future_dates, columns=['date'])\n",
    "df_future"
   ]
  },
  {
   "cell_type": "code",
   "execution_count": 59,
   "id": "e633c4e2",
   "metadata": {},
   "outputs": [
    {
     "data": {
      "text/html": [
       "<div>\n",
       "<style scoped>\n",
       "    .dataframe tbody tr th:only-of-type {\n",
       "        vertical-align: middle;\n",
       "    }\n",
       "\n",
       "    .dataframe tbody tr th {\n",
       "        vertical-align: top;\n",
       "    }\n",
       "\n",
       "    .dataframe thead th {\n",
       "        text-align: right;\n",
       "    }\n",
       "</style>\n",
       "<table border=\"1\" class=\"dataframe\">\n",
       "  <thead>\n",
       "    <tr style=\"text-align: right;\">\n",
       "      <th></th>\n",
       "      <th>date</th>\n",
       "      <th>load_units</th>\n",
       "      <th>people_required</th>\n",
       "      <th>people_available</th>\n",
       "      <th>overtime</th>\n",
       "    </tr>\n",
       "  </thead>\n",
       "  <tbody>\n",
       "    <tr>\n",
       "      <th>0</th>\n",
       "      <td>2025-04-01</td>\n",
       "      <td>10.0</td>\n",
       "      <td>10.0</td>\n",
       "      <td>7.0</td>\n",
       "      <td>True</td>\n",
       "    </tr>\n",
       "    <tr>\n",
       "      <th>1</th>\n",
       "      <td>2025-04-02</td>\n",
       "      <td>11.0</td>\n",
       "      <td>11.0</td>\n",
       "      <td>7.0</td>\n",
       "      <td>True</td>\n",
       "    </tr>\n",
       "    <tr>\n",
       "      <th>2</th>\n",
       "      <td>2025-04-03</td>\n",
       "      <td>9.0</td>\n",
       "      <td>9.0</td>\n",
       "      <td>7.0</td>\n",
       "      <td>True</td>\n",
       "    </tr>\n",
       "    <tr>\n",
       "      <th>3</th>\n",
       "      <td>2025-04-04</td>\n",
       "      <td>11.0</td>\n",
       "      <td>11.0</td>\n",
       "      <td>6.0</td>\n",
       "      <td>True</td>\n",
       "    </tr>\n",
       "    <tr>\n",
       "      <th>4</th>\n",
       "      <td>2025-04-05</td>\n",
       "      <td>3.0</td>\n",
       "      <td>3.0</td>\n",
       "      <td>7.0</td>\n",
       "      <td>False</td>\n",
       "    </tr>\n",
       "    <tr>\n",
       "      <th>...</th>\n",
       "      <td>...</td>\n",
       "      <td>...</td>\n",
       "      <td>...</td>\n",
       "      <td>...</td>\n",
       "      <td>...</td>\n",
       "    </tr>\n",
       "    <tr>\n",
       "      <th>93</th>\n",
       "      <td>2025-07-03</td>\n",
       "      <td>NaN</td>\n",
       "      <td>NaN</td>\n",
       "      <td>NaN</td>\n",
       "      <td>NaN</td>\n",
       "    </tr>\n",
       "    <tr>\n",
       "      <th>94</th>\n",
       "      <td>2025-07-04</td>\n",
       "      <td>NaN</td>\n",
       "      <td>NaN</td>\n",
       "      <td>NaN</td>\n",
       "      <td>NaN</td>\n",
       "    </tr>\n",
       "    <tr>\n",
       "      <th>95</th>\n",
       "      <td>2025-07-05</td>\n",
       "      <td>NaN</td>\n",
       "      <td>NaN</td>\n",
       "      <td>NaN</td>\n",
       "      <td>NaN</td>\n",
       "    </tr>\n",
       "    <tr>\n",
       "      <th>96</th>\n",
       "      <td>2025-07-06</td>\n",
       "      <td>NaN</td>\n",
       "      <td>NaN</td>\n",
       "      <td>NaN</td>\n",
       "      <td>NaN</td>\n",
       "    </tr>\n",
       "    <tr>\n",
       "      <th>97</th>\n",
       "      <td>2025-07-07</td>\n",
       "      <td>NaN</td>\n",
       "      <td>NaN</td>\n",
       "      <td>NaN</td>\n",
       "      <td>NaN</td>\n",
       "    </tr>\n",
       "  </tbody>\n",
       "</table>\n",
       "<p>98 rows × 5 columns</p>\n",
       "</div>"
      ],
      "text/plain": [
       "         date  load_units  people_required  people_available overtime\n",
       "0  2025-04-01        10.0             10.0               7.0     True\n",
       "1  2025-04-02        11.0             11.0               7.0     True\n",
       "2  2025-04-03         9.0              9.0               7.0     True\n",
       "3  2025-04-04        11.0             11.0               6.0     True\n",
       "4  2025-04-05         3.0              3.0               7.0    False\n",
       "..        ...         ...              ...               ...      ...\n",
       "93 2025-07-03         NaN              NaN               NaN      NaN\n",
       "94 2025-07-04         NaN              NaN               NaN      NaN\n",
       "95 2025-07-05         NaN              NaN               NaN      NaN\n",
       "96 2025-07-06         NaN              NaN               NaN      NaN\n",
       "97 2025-07-07         NaN              NaN               NaN      NaN\n",
       "\n",
       "[98 rows x 5 columns]"
      ]
     },
     "execution_count": 59,
     "metadata": {},
     "output_type": "execute_result"
    }
   ],
   "source": [
    "df = pd.read_csv(\"Historical_Load_Data.csv\")\n",
    "df['date'] = pd.to_datetime(df['date'], format='%d-%m-%Y')\n",
    "df_new = pd.concat([df, df_future], axis=0, ignore_index=True, join='outer')\n",
    "df_new"
   ]
  },
  {
   "cell_type": "code",
   "execution_count": 60,
   "id": "c16305dd",
   "metadata": {},
   "outputs": [
    {
     "data": {
      "text/html": [
       "<div>\n",
       "<style scoped>\n",
       "    .dataframe tbody tr th:only-of-type {\n",
       "        vertical-align: middle;\n",
       "    }\n",
       "\n",
       "    .dataframe tbody tr th {\n",
       "        vertical-align: top;\n",
       "    }\n",
       "\n",
       "    .dataframe thead th {\n",
       "        text-align: right;\n",
       "    }\n",
       "</style>\n",
       "<table border=\"1\" class=\"dataframe\">\n",
       "  <thead>\n",
       "    <tr style=\"text-align: right;\">\n",
       "      <th></th>\n",
       "      <th>date</th>\n",
       "      <th>load_units</th>\n",
       "      <th>people_required</th>\n",
       "      <th>people_available</th>\n",
       "      <th>overtime</th>\n",
       "    </tr>\n",
       "  </thead>\n",
       "  <tbody>\n",
       "    <tr>\n",
       "      <th>91</th>\n",
       "      <td>2025-07-01</td>\n",
       "      <td>9.0</td>\n",
       "      <td>9.0</td>\n",
       "      <td>6.0</td>\n",
       "      <td>True</td>\n",
       "    </tr>\n",
       "    <tr>\n",
       "      <th>92</th>\n",
       "      <td>2025-07-02</td>\n",
       "      <td>10.0</td>\n",
       "      <td>10.0</td>\n",
       "      <td>7.0</td>\n",
       "      <td>True</td>\n",
       "    </tr>\n",
       "    <tr>\n",
       "      <th>93</th>\n",
       "      <td>2025-07-03</td>\n",
       "      <td>9.0</td>\n",
       "      <td>9.0</td>\n",
       "      <td>7.0</td>\n",
       "      <td>True</td>\n",
       "    </tr>\n",
       "    <tr>\n",
       "      <th>94</th>\n",
       "      <td>2025-07-04</td>\n",
       "      <td>10.0</td>\n",
       "      <td>10.0</td>\n",
       "      <td>7.0</td>\n",
       "      <td>True</td>\n",
       "    </tr>\n",
       "    <tr>\n",
       "      <th>95</th>\n",
       "      <td>2025-07-05</td>\n",
       "      <td>4.0</td>\n",
       "      <td>4.0</td>\n",
       "      <td>7.0</td>\n",
       "      <td>False</td>\n",
       "    </tr>\n",
       "    <tr>\n",
       "      <th>96</th>\n",
       "      <td>2025-07-06</td>\n",
       "      <td>5.0</td>\n",
       "      <td>5.0</td>\n",
       "      <td>7.0</td>\n",
       "      <td>False</td>\n",
       "    </tr>\n",
       "    <tr>\n",
       "      <th>97</th>\n",
       "      <td>2025-07-07</td>\n",
       "      <td>9.0</td>\n",
       "      <td>9.0</td>\n",
       "      <td>6.0</td>\n",
       "      <td>True</td>\n",
       "    </tr>\n",
       "  </tbody>\n",
       "</table>\n",
       "</div>"
      ],
      "text/plain": [
       "         date  load_units  people_required  people_available overtime\n",
       "91 2025-07-01         9.0              9.0               6.0     True\n",
       "92 2025-07-02        10.0             10.0               7.0     True\n",
       "93 2025-07-03         9.0              9.0               7.0     True\n",
       "94 2025-07-04        10.0             10.0               7.0     True\n",
       "95 2025-07-05         4.0              4.0               7.0    False\n",
       "96 2025-07-06         5.0              5.0               7.0    False\n",
       "97 2025-07-07         9.0              9.0               6.0     True"
      ]
     },
     "execution_count": 60,
     "metadata": {},
     "output_type": "execute_result"
    }
   ],
   "source": [
    "# Substituting the values\n",
    "\n",
    "df_new.loc[len(df_new)-7:, 'load_units'] = people_required\n",
    "df_new.loc[len(df_new)-7:, 'people_required'] = df_new.iloc[-7:]['load_units']\n",
    "df_new.loc[len(df_new)-7:, 'people_available'] = list(availability.values())\n",
    "\n",
    "df_new.loc[df_new.people_required > df_new.people_available, 'overtime'] = True\n",
    "df_new.loc[df_new.people_required <= df_new.people_available, 'overtime'] = False\n",
    "\n",
    "df_new.iloc[-7:]"
   ]
  },
  {
   "cell_type": "code",
   "execution_count": 61,
   "id": "83556436",
   "metadata": {},
   "outputs": [
    {
     "data": {
      "text/html": [
       "<div>\n",
       "<style scoped>\n",
       "    .dataframe tbody tr th:only-of-type {\n",
       "        vertical-align: middle;\n",
       "    }\n",
       "\n",
       "    .dataframe tbody tr th {\n",
       "        vertical-align: top;\n",
       "    }\n",
       "\n",
       "    .dataframe thead th {\n",
       "        text-align: right;\n",
       "    }\n",
       "</style>\n",
       "<table border=\"1\" class=\"dataframe\">\n",
       "  <thead>\n",
       "    <tr style=\"text-align: right;\">\n",
       "      <th></th>\n",
       "      <th>date</th>\n",
       "      <th>load_units</th>\n",
       "      <th>people_required</th>\n",
       "      <th>people_available</th>\n",
       "      <th>overtime</th>\n",
       "    </tr>\n",
       "  </thead>\n",
       "  <tbody>\n",
       "    <tr>\n",
       "      <th>0</th>\n",
       "      <td>2025-07-01</td>\n",
       "      <td>9.0</td>\n",
       "      <td>9.0</td>\n",
       "      <td>6.0</td>\n",
       "      <td>True</td>\n",
       "    </tr>\n",
       "    <tr>\n",
       "      <th>1</th>\n",
       "      <td>2025-07-02</td>\n",
       "      <td>10.0</td>\n",
       "      <td>10.0</td>\n",
       "      <td>7.0</td>\n",
       "      <td>True</td>\n",
       "    </tr>\n",
       "    <tr>\n",
       "      <th>2</th>\n",
       "      <td>2025-07-03</td>\n",
       "      <td>9.0</td>\n",
       "      <td>9.0</td>\n",
       "      <td>7.0</td>\n",
       "      <td>True</td>\n",
       "    </tr>\n",
       "    <tr>\n",
       "      <th>3</th>\n",
       "      <td>2025-07-04</td>\n",
       "      <td>10.0</td>\n",
       "      <td>10.0</td>\n",
       "      <td>7.0</td>\n",
       "      <td>True</td>\n",
       "    </tr>\n",
       "    <tr>\n",
       "      <th>4</th>\n",
       "      <td>2025-07-05</td>\n",
       "      <td>4.0</td>\n",
       "      <td>4.0</td>\n",
       "      <td>7.0</td>\n",
       "      <td>False</td>\n",
       "    </tr>\n",
       "    <tr>\n",
       "      <th>5</th>\n",
       "      <td>2025-07-06</td>\n",
       "      <td>5.0</td>\n",
       "      <td>5.0</td>\n",
       "      <td>7.0</td>\n",
       "      <td>False</td>\n",
       "    </tr>\n",
       "    <tr>\n",
       "      <th>6</th>\n",
       "      <td>2025-07-07</td>\n",
       "      <td>9.0</td>\n",
       "      <td>9.0</td>\n",
       "      <td>6.0</td>\n",
       "      <td>True</td>\n",
       "    </tr>\n",
       "  </tbody>\n",
       "</table>\n",
       "</div>"
      ],
      "text/plain": [
       "        date  load_units  people_required  people_available overtime\n",
       "0 2025-07-01         9.0              9.0               6.0     True\n",
       "1 2025-07-02        10.0             10.0               7.0     True\n",
       "2 2025-07-03         9.0              9.0               7.0     True\n",
       "3 2025-07-04        10.0             10.0               7.0     True\n",
       "4 2025-07-05         4.0              4.0               7.0    False\n",
       "5 2025-07-06         5.0              5.0               7.0    False\n",
       "6 2025-07-07         9.0              9.0               6.0     True"
      ]
     },
     "execution_count": 61,
     "metadata": {},
     "output_type": "execute_result"
    }
   ],
   "source": [
    "future_forecast = df_new.iloc[-7:].reset_index(drop=True\n",
    "                                               )\n",
    "future_forecast"
   ]
  },
  {
   "cell_type": "markdown",
   "id": "df17caa6",
   "metadata": {},
   "source": [
    "# Staff assignment roster\n",
    "\n",
    "Since we don't have enough availability on 1st, 2nd, 3rd, 4th and 7th July, all of the people in people_available will be having their availability. For other days, we have to plan the availability and make their roster.\n",
    "\n",
    "For the other 2 days (5th and 6th July), we have to ensure that 4 people gets to work on 5th july and 5 people (3 of which haven't worked on 5th) gets to work on 6th July. Now chosing for 5th would be based on lowest count (one who had worked least)"
   ]
  },
  {
   "cell_type": "code",
   "execution_count": 62,
   "id": "76291816",
   "metadata": {},
   "outputs": [
    {
     "data": {
      "text/plain": [
       "({'Alice': 6,\n",
       "  'Bob': 7,\n",
       "  'Carol': 5,\n",
       "  'Dave': 6,\n",
       "  'Eve': 6,\n",
       "  'Frank': 6,\n",
       "  'Grace': 6},\n",
       " {'2025-07-01': ['Bob', 'Carol', 'Dave', 'Eve', 'Frank', 'Grace'],\n",
       "  '2025-07-02': ['Alice', 'Bob', 'Carol', 'Dave', 'Eve', 'Frank', 'Grace'],\n",
       "  '2025-07-03': ['Alice', 'Bob', 'Carol', 'Dave', 'Eve', 'Frank', 'Grace'],\n",
       "  '2025-07-04': ['Alice', 'Bob', 'Carol', 'Dave', 'Eve', 'Frank', 'Grace'],\n",
       "  '2025-07-05': ['Alice', 'Bob', 'Carol', 'Dave'],\n",
       "  '2025-07-06': ['Grace', 'Eve', 'Frank', 'Alice', 'Bob'],\n",
       "  '2025-07-07': ['Alice', 'Bob', 'Dave', 'Eve', 'Frank', 'Grace']})"
      ]
     },
     "execution_count": 62,
     "metadata": {},
     "output_type": "execute_result"
    }
   ],
   "source": [
    "\n",
    "\n",
    "def chose_people(future_forecast, peoples_avl, date):\n",
    "    \"\"\"\n",
    "    This function is responsible for doing caluclations and returning the roster based on the logics:\n",
    "\n",
    "    (As provided in the question)\n",
    "    For each day in the forecasted week:\n",
    "    Identify available staff (not on holiday and didn’t work yesterday, unless overtime)\n",
    "    - Sort them by how many days they’ve already worked (fewest first)\n",
    "    - If load > available staff, flag “overtime” and allow reusing who worked yesterday\n",
    "\n",
    "    Input: \n",
    "    - future_forecast: forecast for next 7 days\n",
    "    - peoples_avl: dictionary mapping date to list of people available that day\n",
    "    - date: date for which we are finding the roster\n",
    "\n",
    "    Output:\n",
    "    - counts: count of every duties of each staff\n",
    "    - roster: roster day wise\n",
    "    \"\"\"\n",
    "\n",
    "    # We will store our duties in dt_full dictionary based on dates\n",
    "    dt_full = {}\n",
    "    for v, k in peoples_avl.items():\n",
    "        dt_full[v] = [] # setting up dt_full\n",
    "\n",
    "    # pdf is rows from starting to last date (it will be used to calculate total counts till this point)\n",
    "    pdf = future_forecast.loc[future_forecast.date< pd.to_datetime(date, format=\"%Y-%m-%d\")]\n",
    "    # counts is the dictionary storing counts of appearance of people\n",
    "    counts = {}\n",
    "    # initializing counts\n",
    "    for n in staffs.name.unique():\n",
    "        counts[n] = 0\n",
    "\n",
    "    # counting and making dt_full for all rows till last date\n",
    "    for i in range(len(pdf)):\n",
    "        x = pdf.iloc[i, :]\n",
    "        if x['overtime'] == True:\n",
    "            for ppl in peoples_avl[x.date.strftime(\"%Y-%m-%d\")]:\n",
    "                counts[ppl] += 1\n",
    "            dt_full[x.date.strftime(\"%Y-%m-%d\")] = peoples_avl[x.date.strftime(\"%Y-%m-%d\")]\n",
    "        else:\n",
    "            if i==0:\n",
    "                dt_full[x.date.strftime(\"%Y-%m-%d\")] = peoples_avl[x.date.strftime(\"%Y-%m-%d\")][:x.people_required]\n",
    "            else:\n",
    "                dminus = pd.to_datetime(x.date, format=\"%Y-%m-%d\") - timedelta(1)\n",
    "                not_common = set(peoples_avl[x.date.strftime(\"%Y-%m-%d\")]) - set(dt_full[dminus.strftime(\"%Y-%m-%d\")]).intersection(set(peoples_avl[x.date.strftime(\"%Y-%m-%d\")]))\n",
    "                first_values = list(not_common)\n",
    "                first_values = sorted(first_values, key=lambda o: counts[o], reverse=False)\n",
    "                sorted_names = sorted(peoples_avl[x.date.strftime(\"%Y-%m-%d\")], key=lambda o: counts[o], reverse=False)\n",
    "                sorted_names = [i for i in sorted_names if i not in first_values]\n",
    "\n",
    "                sorted_names = first_values + sorted_names\n",
    "                dt_full[x.date.strftime(\"%Y-%m-%d\")] = sorted_names[:int(x.people_required)]\n",
    "            for name in dt_full[x.date.strftime(\"%Y-%m-%d\")]:\n",
    "                counts[name] += 1\n",
    "\n",
    "    # counting and making dt_full for the last row\n",
    "    x = future_forecast.iloc[i+1, :]\n",
    "    if x['overtime'] == True:\n",
    "        for ppl in peoples_avl[x.date.strftime(\"%Y-%m-%d\")]:\n",
    "            counts[ppl] += 1\n",
    "        dt_full[x.date.strftime(\"%Y-%m-%d\")] = peoples_avl[x.date.strftime(\"%Y-%m-%d\")]\n",
    "    else:\n",
    "        dminus = pd.to_datetime(x.date, format=\"%Y-%m-%d\") - timedelta(1)\n",
    "        not_common = set(peoples_avl[x.date.strftime(\"%Y-%m-%d\")]) - set(dt_full[dminus.strftime(\"%Y-%m-%d\")]).intersection(set(peoples_avl[x.date.strftime(\"%Y-%m-%d\")]))\n",
    "        first_values = list(not_common)\n",
    "        first_values = sorted(first_values, key=lambda o: counts[o], reverse=False)\n",
    "        sorted_names = sorted(peoples_avl[x.date.strftime(\"%Y-%m-%d\")], key=lambda o: counts[o], reverse=False)\n",
    "        sorted_names = [i for i in sorted_names if i not in first_values]\n",
    "\n",
    "        sorted_names = first_values + sorted_names\n",
    "        dt_full[x.date.strftime(\"%Y-%m-%d\")] = sorted_names[:int(x.people_required)]\n",
    "    return counts, dt_full\n",
    "\n",
    "counts, roster = chose_people(future_forecast, peoples_avl, \"2025-07-07\")\n",
    "counts, roster"
   ]
  },
  {
   "cell_type": "markdown",
   "id": "c009801a",
   "metadata": {},
   "source": [
    "## dt_full is the table showing forecast of duty each day\n",
    "\n",
    "**Here is the logic for the same:**:\n",
    "- first we choose a date for which we will be finding people for duty\n",
    "- we will calculate appearances of all the people on duty before that day\n",
    "- then we will sort the appearances based on their total duty count\n",
    "- if overtime on this day is true, all available people will be on duty\n",
    "- if overtime is false, among the people available, \n",
    "- we check which people were not available yesterday. We sort them based on their appearances and chose among these based on sorting. \n",
    "- if still some spots are left, it choses the ones with least duties among the leftovers"
   ]
  },
  {
   "cell_type": "markdown",
   "id": "11872bb3",
   "metadata": {},
   "source": [
    "### Now let's see total duties"
   ]
  },
  {
   "cell_type": "code",
   "execution_count": 63,
   "id": "377aec1a",
   "metadata": {},
   "outputs": [
    {
     "data": {
      "text/plain": [
       "['Bob',\n",
       " 'Carol',\n",
       " 'Dave',\n",
       " 'Eve',\n",
       " 'Frank',\n",
       " 'Grace',\n",
       " 'Alice',\n",
       " 'Bob',\n",
       " 'Carol',\n",
       " 'Dave',\n",
       " 'Eve',\n",
       " 'Frank',\n",
       " 'Grace',\n",
       " 'Alice',\n",
       " 'Bob',\n",
       " 'Carol',\n",
       " 'Dave',\n",
       " 'Eve',\n",
       " 'Frank',\n",
       " 'Grace',\n",
       " 'Alice',\n",
       " 'Bob',\n",
       " 'Carol',\n",
       " 'Dave',\n",
       " 'Eve',\n",
       " 'Frank',\n",
       " 'Grace',\n",
       " 'Alice',\n",
       " 'Bob',\n",
       " 'Carol',\n",
       " 'Dave',\n",
       " 'Grace',\n",
       " 'Eve',\n",
       " 'Frank',\n",
       " 'Alice',\n",
       " 'Bob',\n",
       " 'Alice',\n",
       " 'Bob',\n",
       " 'Dave',\n",
       " 'Eve',\n",
       " 'Frank',\n",
       " 'Grace']"
      ]
     },
     "execution_count": 63,
     "metadata": {},
     "output_type": "execute_result"
    }
   ],
   "source": [
    "duties = []\n",
    "\n",
    "for k, v in roster.items():\n",
    "    duties += v\n",
    "\n",
    "duties"
   ]
  },
  {
   "cell_type": "code",
   "execution_count": 64,
   "id": "14b09131",
   "metadata": {},
   "outputs": [
    {
     "data": {
      "text/plain": [
       "Counter({'Bob': 7,\n",
       "         'Dave': 6,\n",
       "         'Eve': 6,\n",
       "         'Frank': 6,\n",
       "         'Grace': 6,\n",
       "         'Alice': 6,\n",
       "         'Carol': 5})"
      ]
     },
     "execution_count": 64,
     "metadata": {},
     "output_type": "execute_result"
    }
   ],
   "source": [
    "from collections import Counter\n",
    "\n",
    "Counter(duties)"
   ]
  },
  {
   "cell_type": "code",
   "execution_count": null,
   "id": "1bb7d781",
   "metadata": {},
   "outputs": [],
   "source": []
  }
 ],
 "metadata": {
  "kernelspec": {
   "display_name": "venv (3.13.2)",
   "language": "python",
   "name": "python3"
  },
  "language_info": {
   "codemirror_mode": {
    "name": "ipython",
    "version": 3
   },
   "file_extension": ".py",
   "mimetype": "text/x-python",
   "name": "python",
   "nbconvert_exporter": "python",
   "pygments_lexer": "ipython3",
   "version": "3.13.2"
  }
 },
 "nbformat": 4,
 "nbformat_minor": 5
}
